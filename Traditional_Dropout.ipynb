{
  "nbformat": 4,
  "nbformat_minor": 0,
  "metadata": {
    "colab": {
      "name": "Traditional_Dropout.ipynb",
      "provenance": [],
      "collapsed_sections": []
    },
    "kernelspec": {
      "name": "python3",
      "display_name": "Python 3"
    },
    "accelerator": "GPU"
  },
  "cells": [
    {
      "cell_type": "code",
      "metadata": {
        "id": "SyNwLPpp56tU",
        "colab_type": "code",
        "colab": {
          "base_uri": "https://localhost:8080/",
          "height": 33
        },
        "outputId": "5a708bcb-3dcd-423e-e6f1-77a2b1a446e1"
      },
      "source": [
        "# All imports\n",
        "\n",
        "from google.colab import files\n",
        "from IPython.display import Image,display\n",
        "from PIL import Image\n",
        "import tensorflow as tf\n",
        "import numpy as np\n",
        "from keras.datasets import mnist\n",
        "import matplotlib.pyplot as plt\n",
        "import timeit\n",
        "import os\n",
        "import psutil"
      ],
      "execution_count": 1,
      "outputs": [
        {
          "output_type": "stream",
          "text": [
            "Using TensorFlow backend.\n"
          ],
          "name": "stderr"
        }
      ]
    },
    {
      "cell_type": "code",
      "metadata": {
        "id": "4NCr-9tZs65w",
        "colab_type": "code",
        "outputId": "d1435932-3272-494f-d05b-c7d5f090fb1c",
        "colab": {
          "base_uri": "https://localhost:8080/",
          "height": 33
        }
      },
      "source": [
        "# GPU Support\n",
        "tf.test.gpu_device_name()"
      ],
      "execution_count": 2,
      "outputs": [
        {
          "output_type": "execute_result",
          "data": {
            "text/plain": [
              "'/device:GPU:0'"
            ]
          },
          "metadata": {
            "tags": []
          },
          "execution_count": 2
        }
      ]
    },
    {
      "cell_type": "markdown",
      "metadata": {
        "id": "_qNWYuDIJTrW",
        "colab_type": "text"
      },
      "source": [
        "#Loading the dataset"
      ]
    },
    {
      "cell_type": "code",
      "metadata": {
        "id": "K0FXSFhZQgSy",
        "colab_type": "code",
        "outputId": "c32b58f1-62cd-4196-b9ff-65bb739fd4b8",
        "colab": {
          "base_uri": "https://localhost:8080/",
          "height": 281
        }
      },
      "source": [
        "# loading the MNIST dataset, split between train and test sets\n",
        "(x_train, y_train), (x_test, y_test) = mnist.load_data()\n",
        "\n",
        "# To print the image of the written number along with the value in the y column\n",
        "image_index = 1                 # You may select anything up to y_train.shape[0]\n",
        "\n",
        "plt.imshow(x_train[image_index], cmap='Greys')\n",
        "print(\"The handwritten number is \", y_train[image_index])"
      ],
      "execution_count": 3,
      "outputs": [
        {
          "output_type": "stream",
          "text": [
            "The handwritten number is  0\n"
          ],
          "name": "stdout"
        },
        {
          "output_type": "display_data",
          "data": {
            "image/png": "[encoded data removed]",
            "text/plain": [
              "<Figure size 432x288 with 1 Axes>"
            ]
          },
          "metadata": {
            "tags": [],
            "needs_background": "light"
          }
        }
      ]
    },
    {
      "cell_type": "markdown",
      "metadata": {
        "id": "Qv8qA3VqJcHB",
        "colab_type": "text"
      },
      "source": [
        "#Preprocessing the Dataset"
      ]
    },
    {
      "cell_type": "code",
      "metadata": {
        "id": "t-DzsWa9Tbyc",
        "colab_type": "code",
        "colab": {}
      },
      "source": [
        "# Creating training set\n",
        "training_size = 25600\n",
        "\n",
        "# Creating test set\n",
        "test_size = 256\n",
        "\n",
        "# Number of epochs\n",
        "epoch= 180"
      ],
      "execution_count": 0,
      "outputs": []
    },
    {
      "cell_type": "code",
      "metadata": {
        "id": "9fj5k9x0QtWN",
        "colab_type": "code",
        "colab": {}
      },
      "source": [
        "x_train = x_train.reshape(x_train.shape[0], 28, 28, 1)\n",
        "x_test = x_test.reshape(x_test.shape[0], 28, 28, 1)\n",
        "\n",
        "# Ensuring the datatype is float\n",
        "x_train = x_train.astype('float32')\n",
        "x_test = x_test.astype('float32')\n",
        "\n",
        "# Normalizing RGB codes by dividing by the max RGB value.\n",
        "x_train /= 255\n",
        "x_test /= 255\n",
        "\n",
        "\n",
        "y_train.reshape(y_train.shape[0],1)\n",
        "y_test.reshape(y_test.shape[0],1)\n",
        "\n",
        "# Converting to categorical values, one hot encoding\n",
        "num_classes = 10\n",
        "y_train = tf.keras.utils.to_categorical(y_train, num_classes)\n",
        "y_test = tf.keras.utils.to_categorical(y_test, num_classes)\n",
        "\n",
        " \n",
        "x_train1 = x_train[0:training_size,:,:,:]\n",
        "y_train1 = y_train[0:training_size,:]\n",
        "\n",
        "x_test1 = x_test[0:test_size,:,:,:]\n",
        "y_test1 = y_test[0:test_size,:]\n",
        "\n",
        "x_train1 = x_train1.reshape(x_train1.shape[0], 784, )\n",
        "x_test1 = x_test1.reshape(x_test1.shape[0], 784, )"
      ],
      "execution_count": 0,
      "outputs": []
    },
    {
      "cell_type": "markdown",
      "metadata": {
        "id": "uPYKUporJiCc",
        "colab_type": "text"
      },
      "source": [
        "#Creating the Neural Network Architecture"
      ]
    },
    {
      "cell_type": "code",
      "metadata": {
        "id": "plK11RKH6WEX",
        "colab_type": "code",
        "colab": {}
      },
      "source": [
        "# CREATING NN ARCHITECTURE 784-2000-2000-10\n",
        "\n",
        "model = tf.keras.models.Sequential()\n",
        "model.add(tf.keras.layers.Dropout(0, input_shape=(784,)))         # Input Layer\n",
        "model.add(tf.keras.layers.Dense(units=2000, activation='relu'))   # ReLU activation on hidden layer 1\n",
        "model.add(tf.keras.layers.Dropout(0.5))                           # Dropout on hidden layer 1\n",
        "model.add(tf.keras.layers.Dense(units=2000, activation='relu'))   # Relu activation on hidden layer 2\n",
        "model.add(tf.keras.layers.Dropout(0.5))                           # Dropout on hidden layer 2\n",
        "model.add(tf.keras.layers.Dense(units=10, activation='softmax'))  # Softmax on the output layer\n"
      ],
      "execution_count": 0,
      "outputs": []
    },
    {
      "cell_type": "markdown",
      "metadata": {
        "id": "WD7QACR8JniU",
        "colab_type": "text"
      },
      "source": [
        "#Creating a Neural Network and training it"
      ]
    },
    {
      "cell_type": "code",
      "metadata": {
        "id": "PWolxOzA7ueM",
        "colab_type": "code",
        "outputId": "519bbece-c3a6-4ec9-8618-7f862a960a6a",
        "colab": {
          "base_uri": "https://localhost:8080/",
          "height": 1000
        }
      },
      "source": [
        "start = timeit.default_timer()\n",
        "\n",
        "y_acc= []\n",
        "x_plt = []\n",
        "\n",
        "# Compiling the model with CrossEntropy Loss and using the Adam optimizer for the classification problem\n",
        "model.compile(loss=tf.keras.losses.categorical_crossentropy,optimizer =  tf.keras.optimizers.Adam( learning_rate=0.00005,\n",
        "              beta_1=0.9, beta_2=0.999, epsilon=1e-07, amsgrad=False, name='Adam') ,metrics=['accuracy'])\n",
        "\n",
        "\n",
        "# Training the model for epoch number of iterations\n",
        "for i in range(int(epoch/3)):         \n",
        "  dropout_history = model.fit(x_train1, y_train1, epochs=3, batch_size= 256,validation_split=0.1,verbose = 1,shuffle=True)\n",
        "  \n",
        "  # if(i%3 == 0):               # Evaluating the model every 200-300 weight updates\n",
        "  y_acc.append(1 - model.evaluate(x_test1, y_test1, batch_size=256)[1])\n",
        "  x_plt.append(3*i*training_size/256)\n",
        "\n",
        "finish = timeit.default_timer()\n",
        "\n",
        "# Evaluating the model on test set after training is complete\n",
        "y_plt =dropout_history.history['val_loss']\n",
        "results = model.evaluate(x_test1, y_test1, batch_size= 256)\n",
        "print('Test accuracy : ', results[0],results[1])\n"
      ],
      "execution_count": 7,
      "outputs": [
        {
          "output_type": "stream",
          "text": [
            "Epoch 1/3\n",
            "90/90 [==============================] - 1s 14ms/step - loss: 1.2846 - accuracy: 0.6613 - val_loss: 0.5250 - val_accuracy: 0.8613\n",
            "Epoch 2/3\n",
            "90/90 [==============================] - 1s 10ms/step - loss: 0.4964 - accuracy: 0.8607 - val_loss: 0.3463 - val_accuracy: 0.9000\n",
            "Epoch 3/3\n",
            "90/90 [==============================] - 1s 10ms/step - loss: 0.3781 - accuracy: 0.8923 - val_loss: 0.2862 - val_accuracy: 0.9133\n",
            "1/1 [==============================] - 0s 1ms/step - loss: 0.2372 - accuracy: 0.9375\n",
            "Epoch 1/3\n",
            "90/90 [==============================] - 1s 10ms/step - loss: 0.3230 - accuracy: 0.9071 - val_loss: 0.2615 - val_accuracy: 0.9207\n",
            "Epoch 2/3\n",
            "90/90 [==============================] - 1s 10ms/step - loss: 0.2854 - accuracy: 0.9178 - val_loss: 0.2293 - val_accuracy: 0.9305\n",
            "Epoch 3/3\n",
            "90/90 [==============================] - 1s 10ms/step - loss: 0.2555 - accuracy: 0.9266 - val_loss: 0.2146 - val_accuracy: 0.9355\n",
            "1/1 [==============================] - 0s 1ms/step - loss: 0.1586 - accuracy: 0.9570\n",
            "Epoch 1/3\n",
            "90/90 [==============================] - 1s 10ms/step - loss: 0.2317 - accuracy: 0.9346 - val_loss: 0.1983 - val_accuracy: 0.9402\n",
            "Epoch 2/3\n",
            "90/90 [==============================] - 1s 10ms/step - loss: 0.2112 - accuracy: 0.9393 - val_loss: 0.1809 - val_accuracy: 0.9441\n",
            "Epoch 3/3\n",
            "90/90 [==============================] - 1s 10ms/step - loss: 0.1972 - accuracy: 0.9423 - val_loss: 0.1745 - val_accuracy: 0.9465\n",
            "1/1 [==============================] - 0s 1ms/step - loss: 0.1202 - accuracy: 0.9688\n",
            "Epoch 1/3\n",
            "90/90 [==============================] - 1s 10ms/step - loss: 0.1814 - accuracy: 0.9492 - val_loss: 0.1614 - val_accuracy: 0.9480\n",
            "Epoch 2/3\n",
            "90/90 [==============================] - 1s 10ms/step - loss: 0.1691 - accuracy: 0.9521 - val_loss: 0.1531 - val_accuracy: 0.9488\n",
            "Epoch 3/3\n",
            "90/90 [==============================] - 1s 10ms/step - loss: 0.1572 - accuracy: 0.9536 - val_loss: 0.1459 - val_accuracy: 0.9520\n",
            "1/1 [==============================] - 0s 1ms/step - loss: 0.1003 - accuracy: 0.9766\n",
            "Epoch 1/3\n",
            "90/90 [==============================] - 1s 10ms/step - loss: 0.1462 - accuracy: 0.9578 - val_loss: 0.1394 - val_accuracy: 0.9551\n",
            "Epoch 2/3\n",
            "90/90 [==============================] - 1s 10ms/step - loss: 0.1391 - accuracy: 0.9605 - val_loss: 0.1344 - val_accuracy: 0.9551\n",
            "Epoch 3/3\n",
            "90/90 [==============================] - 1s 10ms/step - loss: 0.1292 - accuracy: 0.9626 - val_loss: 0.1290 - val_accuracy: 0.9582\n",
            "1/1 [==============================] - 0s 1ms/step - loss: 0.0859 - accuracy: 0.9883\n",
            "Epoch 1/3\n",
            "90/90 [==============================] - 1s 10ms/step - loss: 0.1219 - accuracy: 0.9648 - val_loss: 0.1262 - val_accuracy: 0.9582\n",
            "Epoch 2/3\n",
            "90/90 [==============================] - 1s 10ms/step - loss: 0.1160 - accuracy: 0.9666 - val_loss: 0.1219 - val_accuracy: 0.9590\n",
            "Epoch 3/3\n",
            "90/90 [==============================] - 1s 10ms/step - loss: 0.1077 - accuracy: 0.9685 - val_loss: 0.1139 - val_accuracy: 0.9637\n",
            "1/1 [==============================] - 0s 984us/step - loss: 0.0784 - accuracy: 0.9844\n",
            "Epoch 1/3\n",
            "90/90 [==============================] - 1s 10ms/step - loss: 0.1012 - accuracy: 0.9711 - val_loss: 0.1151 - val_accuracy: 0.9613\n",
            "Epoch 2/3\n",
            "90/90 [==============================] - 1s 10ms/step - loss: 0.0982 - accuracy: 0.9730 - val_loss: 0.1108 - val_accuracy: 0.9645\n",
            "Epoch 3/3\n",
            "90/90 [==============================] - 1s 10ms/step - loss: 0.0893 - accuracy: 0.9751 - val_loss: 0.1107 - val_accuracy: 0.9645\n",
            "1/1 [==============================] - 0s 1ms/step - loss: 0.0727 - accuracy: 0.9844\n",
            "Epoch 1/3\n",
            "90/90 [==============================] - 1s 10ms/step - loss: 0.0870 - accuracy: 0.9746 - val_loss: 0.1064 - val_accuracy: 0.9660\n",
            "Epoch 2/3\n",
            "90/90 [==============================] - 1s 10ms/step - loss: 0.0815 - accuracy: 0.9765 - val_loss: 0.1037 - val_accuracy: 0.9664\n",
            "Epoch 3/3\n",
            "90/90 [==============================] - 1s 10ms/step - loss: 0.0787 - accuracy: 0.9780 - val_loss: 0.1012 - val_accuracy: 0.9680\n",
            "1/1 [==============================] - 0s 1ms/step - loss: 0.0683 - accuracy: 0.9844\n",
            "Epoch 1/3\n",
            "90/90 [==============================] - 1s 10ms/step - loss: 0.0743 - accuracy: 0.9793 - val_loss: 0.1006 - val_accuracy: 0.9672\n",
            "Epoch 2/3\n",
            "90/90 [==============================] - 1s 10ms/step - loss: 0.0697 - accuracy: 0.9802 - val_loss: 0.0967 - val_accuracy: 0.9688\n",
            "Epoch 3/3\n",
            "90/90 [==============================] - 1s 10ms/step - loss: 0.0665 - accuracy: 0.9815 - val_loss: 0.0943 - val_accuracy: 0.9695\n",
            "1/1 [==============================] - 0s 981us/step - loss: 0.0680 - accuracy: 0.9844\n",
            "Epoch 1/3\n",
            "90/90 [==============================] - 1s 10ms/step - loss: 0.0635 - accuracy: 0.9816 - val_loss: 0.0923 - val_accuracy: 0.9695\n",
            "Epoch 2/3\n",
            "90/90 [==============================] - 1s 10ms/step - loss: 0.0593 - accuracy: 0.9826 - val_loss: 0.0930 - val_accuracy: 0.9703\n",
            "Epoch 3/3\n",
            "90/90 [==============================] - 1s 10ms/step - loss: 0.0587 - accuracy: 0.9832 - val_loss: 0.0933 - val_accuracy: 0.9668\n",
            "1/1 [==============================] - 0s 1ms/step - loss: 0.0574 - accuracy: 0.9883\n",
            "Epoch 1/3\n",
            "90/90 [==============================] - 1s 10ms/step - loss: 0.0541 - accuracy: 0.9846 - val_loss: 0.0911 - val_accuracy: 0.9719\n",
            "Epoch 2/3\n",
            "90/90 [==============================] - 1s 10ms/step - loss: 0.0528 - accuracy: 0.9853 - val_loss: 0.0913 - val_accuracy: 0.9723\n",
            "Epoch 3/3\n",
            "90/90 [==============================] - 1s 10ms/step - loss: 0.0491 - accuracy: 0.9853 - val_loss: 0.0896 - val_accuracy: 0.9734\n",
            "1/1 [==============================] - 0s 1ms/step - loss: 0.0578 - accuracy: 0.9844\n",
            "Epoch 1/3\n",
            "90/90 [==============================] - 1s 10ms/step - loss: 0.0464 - accuracy: 0.9876 - val_loss: 0.0895 - val_accuracy: 0.9738\n",
            "Epoch 2/3\n",
            "90/90 [==============================] - 1s 10ms/step - loss: 0.0447 - accuracy: 0.9872 - val_loss: 0.0869 - val_accuracy: 0.9746\n",
            "Epoch 3/3\n",
            "90/90 [==============================] - 1s 10ms/step - loss: 0.0429 - accuracy: 0.9876 - val_loss: 0.0885 - val_accuracy: 0.9742\n",
            "1/1 [==============================] - 0s 1ms/step - loss: 0.0599 - accuracy: 0.9844\n",
            "Epoch 1/3\n",
            "90/90 [==============================] - 1s 10ms/step - loss: 0.0399 - accuracy: 0.9891 - val_loss: 0.0856 - val_accuracy: 0.9754\n",
            "Epoch 2/3\n",
            "90/90 [==============================] - 1s 10ms/step - loss: 0.0384 - accuracy: 0.9898 - val_loss: 0.0848 - val_accuracy: 0.9754\n",
            "Epoch 3/3\n",
            "90/90 [==============================] - 1s 10ms/step - loss: 0.0357 - accuracy: 0.9902 - val_loss: 0.0862 - val_accuracy: 0.9754\n",
            "1/1 [==============================] - 0s 2ms/step - loss: 0.0554 - accuracy: 0.9883\n",
            "Epoch 1/3\n",
            "90/90 [==============================] - 1s 10ms/step - loss: 0.0351 - accuracy: 0.9897 - val_loss: 0.0844 - val_accuracy: 0.9750\n",
            "Epoch 2/3\n",
            "90/90 [==============================] - 1s 10ms/step - loss: 0.0330 - accuracy: 0.9914 - val_loss: 0.0851 - val_accuracy: 0.9746\n",
            "Epoch 3/3\n",
            "90/90 [==============================] - 1s 10ms/step - loss: 0.0318 - accuracy: 0.9911 - val_loss: 0.0835 - val_accuracy: 0.9754\n",
            "1/1 [==============================] - 0s 1ms/step - loss: 0.0523 - accuracy: 0.9883\n",
            "Epoch 1/3\n",
            "90/90 [==============================] - 1s 10ms/step - loss: 0.0310 - accuracy: 0.9920 - val_loss: 0.0843 - val_accuracy: 0.9754\n",
            "Epoch 2/3\n",
            "90/90 [==============================] - 1s 10ms/step - loss: 0.0283 - accuracy: 0.9926 - val_loss: 0.0820 - val_accuracy: 0.9766\n",
            "Epoch 3/3\n",
            "90/90 [==============================] - 1s 10ms/step - loss: 0.0275 - accuracy: 0.9930 - val_loss: 0.0815 - val_accuracy: 0.9773\n",
            "1/1 [==============================] - 0s 1ms/step - loss: 0.0523 - accuracy: 0.9844\n",
            "Epoch 1/3\n",
            "90/90 [==============================] - 1s 10ms/step - loss: 0.0261 - accuracy: 0.9928 - val_loss: 0.0839 - val_accuracy: 0.9777\n",
            "Epoch 2/3\n",
            "90/90 [==============================] - 1s 10ms/step - loss: 0.0252 - accuracy: 0.9934 - val_loss: 0.0797 - val_accuracy: 0.9785\n",
            "Epoch 3/3\n",
            "90/90 [==============================] - 1s 10ms/step - loss: 0.0222 - accuracy: 0.9949 - val_loss: 0.0836 - val_accuracy: 0.9770\n",
            "1/1 [==============================] - 0s 2ms/step - loss: 0.0521 - accuracy: 0.9844\n",
            "Epoch 1/3\n",
            "90/90 [==============================] - 1s 10ms/step - loss: 0.0211 - accuracy: 0.9947 - val_loss: 0.0838 - val_accuracy: 0.9773\n",
            "Epoch 2/3\n",
            "90/90 [==============================] - 1s 10ms/step - loss: 0.0221 - accuracy: 0.9942 - val_loss: 0.0841 - val_accuracy: 0.9758\n",
            "Epoch 3/3\n",
            "90/90 [==============================] - 1s 10ms/step - loss: 0.0213 - accuracy: 0.9945 - val_loss: 0.0824 - val_accuracy: 0.9770\n",
            "1/1 [==============================] - 0s 1ms/step - loss: 0.0496 - accuracy: 0.9844\n",
            "Epoch 1/3\n",
            "90/90 [==============================] - 1s 10ms/step - loss: 0.0199 - accuracy: 0.9953 - val_loss: 0.0835 - val_accuracy: 0.9777\n",
            "Epoch 2/3\n",
            "90/90 [==============================] - 1s 10ms/step - loss: 0.0179 - accuracy: 0.9962 - val_loss: 0.0834 - val_accuracy: 0.9785\n",
            "Epoch 3/3\n",
            "90/90 [==============================] - 1s 10ms/step - loss: 0.0184 - accuracy: 0.9954 - val_loss: 0.0824 - val_accuracy: 0.9797\n",
            "1/1 [==============================] - 0s 2ms/step - loss: 0.0501 - accuracy: 0.9844\n",
            "Epoch 1/3\n",
            "90/90 [==============================] - 1s 10ms/step - loss: 0.0172 - accuracy: 0.9960 - val_loss: 0.0804 - val_accuracy: 0.9789\n",
            "Epoch 2/3\n",
            "90/90 [==============================] - 1s 10ms/step - loss: 0.0176 - accuracy: 0.9956 - val_loss: 0.0836 - val_accuracy: 0.9773\n",
            "Epoch 3/3\n",
            "90/90 [==============================] - 1s 10ms/step - loss: 0.0149 - accuracy: 0.9967 - val_loss: 0.0818 - val_accuracy: 0.9789\n",
            "1/1 [==============================] - 0s 1ms/step - loss: 0.0547 - accuracy: 0.9844\n",
            "Epoch 1/3\n",
            "90/90 [==============================] - 1s 10ms/step - loss: 0.0154 - accuracy: 0.9964 - val_loss: 0.0832 - val_accuracy: 0.9762\n",
            "Epoch 2/3\n",
            "90/90 [==============================] - 1s 10ms/step - loss: 0.0150 - accuracy: 0.9964 - val_loss: 0.0860 - val_accuracy: 0.9758\n",
            "Epoch 3/3\n",
            "90/90 [==============================] - 1s 10ms/step - loss: 0.0143 - accuracy: 0.9961 - val_loss: 0.0831 - val_accuracy: 0.9770\n",
            "1/1 [==============================] - 0s 1ms/step - loss: 0.0563 - accuracy: 0.9844\n",
            "Epoch 1/3\n",
            "90/90 [==============================] - 1s 10ms/step - loss: 0.0141 - accuracy: 0.9966 - val_loss: 0.0843 - val_accuracy: 0.9773\n",
            "Epoch 2/3\n",
            "90/90 [==============================] - 1s 10ms/step - loss: 0.0132 - accuracy: 0.9969 - val_loss: 0.0858 - val_accuracy: 0.9781\n",
            "Epoch 3/3\n",
            "90/90 [==============================] - 1s 10ms/step - loss: 0.0136 - accuracy: 0.9966 - val_loss: 0.0838 - val_accuracy: 0.9766\n",
            "1/1 [==============================] - 0s 1ms/step - loss: 0.0516 - accuracy: 0.9844\n",
            "Epoch 1/3\n",
            "90/90 [==============================] - 1s 10ms/step - loss: 0.0136 - accuracy: 0.9965 - val_loss: 0.0811 - val_accuracy: 0.9789\n",
            "Epoch 2/3\n",
            "90/90 [==============================] - 1s 10ms/step - loss: 0.0118 - accuracy: 0.9976 - val_loss: 0.0846 - val_accuracy: 0.9770\n",
            "Epoch 3/3\n",
            "90/90 [==============================] - 1s 10ms/step - loss: 0.0112 - accuracy: 0.9977 - val_loss: 0.0860 - val_accuracy: 0.9762\n",
            "1/1 [==============================] - 0s 1ms/step - loss: 0.0498 - accuracy: 0.9844\n",
            "Epoch 1/3\n",
            "90/90 [==============================] - 1s 10ms/step - loss: 0.0116 - accuracy: 0.9973 - val_loss: 0.0835 - val_accuracy: 0.9785\n",
            "Epoch 2/3\n",
            "90/90 [==============================] - 1s 10ms/step - loss: 0.0099 - accuracy: 0.9979 - val_loss: 0.0820 - val_accuracy: 0.9770\n",
            "Epoch 3/3\n",
            "90/90 [==============================] - 1s 10ms/step - loss: 0.0096 - accuracy: 0.9981 - val_loss: 0.0854 - val_accuracy: 0.9777\n",
            "1/1 [==============================] - 0s 1ms/step - loss: 0.0496 - accuracy: 0.9883\n",
            "Epoch 1/3\n",
            "90/90 [==============================] - 1s 10ms/step - loss: 0.0098 - accuracy: 0.9979 - val_loss: 0.0826 - val_accuracy: 0.9793\n",
            "Epoch 2/3\n",
            "90/90 [==============================] - 1s 10ms/step - loss: 0.0084 - accuracy: 0.9987 - val_loss: 0.0858 - val_accuracy: 0.9781\n",
            "Epoch 3/3\n",
            "90/90 [==============================] - 1s 10ms/step - loss: 0.0088 - accuracy: 0.9980 - val_loss: 0.0829 - val_accuracy: 0.9789\n",
            "1/1 [==============================] - 0s 2ms/step - loss: 0.0533 - accuracy: 0.9844\n",
            "Epoch 1/3\n",
            "90/90 [==============================] - 1s 10ms/step - loss: 0.0088 - accuracy: 0.9982 - val_loss: 0.0864 - val_accuracy: 0.9758\n",
            "Epoch 2/3\n",
            "90/90 [==============================] - 1s 10ms/step - loss: 0.0083 - accuracy: 0.9982 - val_loss: 0.0844 - val_accuracy: 0.9785\n",
            "Epoch 3/3\n",
            "90/90 [==============================] - 1s 10ms/step - loss: 0.0077 - accuracy: 0.9986 - val_loss: 0.0843 - val_accuracy: 0.9773\n",
            "1/1 [==============================] - 0s 1ms/step - loss: 0.0465 - accuracy: 0.9883\n",
            "Epoch 1/3\n",
            "90/90 [==============================] - 1s 10ms/step - loss: 0.0078 - accuracy: 0.9982 - val_loss: 0.0855 - val_accuracy: 0.9797\n",
            "Epoch 2/3\n",
            "90/90 [==============================] - 1s 10ms/step - loss: 0.0078 - accuracy: 0.9983 - val_loss: 0.0856 - val_accuracy: 0.9781\n",
            "Epoch 3/3\n",
            "90/90 [==============================] - 1s 10ms/step - loss: 0.0069 - accuracy: 0.9988 - val_loss: 0.0884 - val_accuracy: 0.9781\n",
            "1/1 [==============================] - 0s 4ms/step - loss: 0.0611 - accuracy: 0.9844\n",
            "Epoch 1/3\n",
            "90/90 [==============================] - 1s 10ms/step - loss: 0.0075 - accuracy: 0.9984 - val_loss: 0.0875 - val_accuracy: 0.9789\n",
            "Epoch 2/3\n",
            "90/90 [==============================] - 1s 10ms/step - loss: 0.0068 - accuracy: 0.9984 - val_loss: 0.0854 - val_accuracy: 0.9781\n",
            "Epoch 3/3\n",
            "90/90 [==============================] - 1s 10ms/step - loss: 0.0067 - accuracy: 0.9986 - val_loss: 0.0841 - val_accuracy: 0.9801\n",
            "1/1 [==============================] - 0s 1ms/step - loss: 0.0574 - accuracy: 0.9844\n",
            "Epoch 1/3\n",
            "90/90 [==============================] - 1s 10ms/step - loss: 0.0061 - accuracy: 0.9987 - val_loss: 0.0868 - val_accuracy: 0.9789\n",
            "Epoch 2/3\n",
            "90/90 [==============================] - 1s 10ms/step - loss: 0.0064 - accuracy: 0.9985 - val_loss: 0.0873 - val_accuracy: 0.9789\n",
            "Epoch 3/3\n",
            "90/90 [==============================] - 1s 10ms/step - loss: 0.0059 - accuracy: 0.9987 - val_loss: 0.0856 - val_accuracy: 0.9793\n",
            "1/1 [==============================] - 0s 1ms/step - loss: 0.0656 - accuracy: 0.9844\n",
            "Epoch 1/3\n",
            "90/90 [==============================] - 1s 10ms/step - loss: 0.0057 - accuracy: 0.9990 - val_loss: 0.0872 - val_accuracy: 0.9797\n",
            "Epoch 2/3\n",
            "90/90 [==============================] - 1s 10ms/step - loss: 0.0051 - accuracy: 0.9992 - val_loss: 0.0835 - val_accuracy: 0.9805\n",
            "Epoch 3/3\n",
            "90/90 [==============================] - 1s 10ms/step - loss: 0.0058 - accuracy: 0.9987 - val_loss: 0.0855 - val_accuracy: 0.9805\n",
            "1/1 [==============================] - 0s 1ms/step - loss: 0.0607 - accuracy: 0.9844\n",
            "Epoch 1/3\n",
            "90/90 [==============================] - 1s 10ms/step - loss: 0.0056 - accuracy: 0.9989 - val_loss: 0.0882 - val_accuracy: 0.9793\n",
            "Epoch 2/3\n",
            "90/90 [==============================] - 1s 10ms/step - loss: 0.0057 - accuracy: 0.9987 - val_loss: 0.0855 - val_accuracy: 0.9785\n",
            "Epoch 3/3\n",
            "90/90 [==============================] - 1s 10ms/step - loss: 0.0053 - accuracy: 0.9988 - val_loss: 0.0871 - val_accuracy: 0.9789\n",
            "1/1 [==============================] - 0s 1ms/step - loss: 0.0603 - accuracy: 0.9844\n",
            "Epoch 1/3\n",
            "90/90 [==============================] - 1s 10ms/step - loss: 0.0046 - accuracy: 0.9991 - val_loss: 0.0859 - val_accuracy: 0.9805\n",
            "Epoch 2/3\n",
            "90/90 [==============================] - 1s 10ms/step - loss: 0.0044 - accuracy: 0.9993 - val_loss: 0.0845 - val_accuracy: 0.9801\n",
            "Epoch 3/3\n",
            "90/90 [==============================] - 1s 10ms/step - loss: 0.0043 - accuracy: 0.9993 - val_loss: 0.0884 - val_accuracy: 0.9793\n",
            "1/1 [==============================] - 0s 1ms/step - loss: 0.0604 - accuracy: 0.9844\n",
            "Epoch 1/3\n",
            "90/90 [==============================] - 1s 10ms/step - loss: 0.0043 - accuracy: 0.9991 - val_loss: 0.0873 - val_accuracy: 0.9781\n",
            "Epoch 2/3\n",
            "90/90 [==============================] - 1s 10ms/step - loss: 0.0051 - accuracy: 0.9990 - val_loss: 0.0839 - val_accuracy: 0.9816\n",
            "Epoch 3/3\n",
            "90/90 [==============================] - 1s 10ms/step - loss: 0.0045 - accuracy: 0.9990 - val_loss: 0.0883 - val_accuracy: 0.9797\n",
            "1/1 [==============================] - 0s 1ms/step - loss: 0.0597 - accuracy: 0.9844\n",
            "Epoch 1/3\n",
            "90/90 [==============================] - 1s 10ms/step - loss: 0.0049 - accuracy: 0.9990 - val_loss: 0.0864 - val_accuracy: 0.9793\n",
            "Epoch 2/3\n",
            "90/90 [==============================] - 1s 10ms/step - loss: 0.0038 - accuracy: 0.9993 - val_loss: 0.0871 - val_accuracy: 0.9801\n",
            "Epoch 3/3\n",
            "90/90 [==============================] - 1s 10ms/step - loss: 0.0038 - accuracy: 0.9994 - val_loss: 0.0884 - val_accuracy: 0.9781\n",
            "1/1 [==============================] - 0s 986us/step - loss: 0.0638 - accuracy: 0.9844\n",
            "Epoch 1/3\n",
            "90/90 [==============================] - 1s 10ms/step - loss: 0.0041 - accuracy: 0.9988 - val_loss: 0.0933 - val_accuracy: 0.9777\n",
            "Epoch 2/3\n",
            "90/90 [==============================] - 1s 10ms/step - loss: 0.0042 - accuracy: 0.9992 - val_loss: 0.0901 - val_accuracy: 0.9797\n",
            "Epoch 3/3\n",
            "90/90 [==============================] - 1s 10ms/step - loss: 0.0036 - accuracy: 0.9994 - val_loss: 0.0902 - val_accuracy: 0.9777\n",
            "1/1 [==============================] - 0s 2ms/step - loss: 0.0662 - accuracy: 0.9844\n",
            "Epoch 1/3\n",
            "90/90 [==============================] - 1s 10ms/step - loss: 0.0035 - accuracy: 0.9994 - val_loss: 0.0927 - val_accuracy: 0.9785\n",
            "Epoch 2/3\n",
            "90/90 [==============================] - 1s 10ms/step - loss: 0.0034 - accuracy: 0.9994 - val_loss: 0.0871 - val_accuracy: 0.9793\n",
            "Epoch 3/3\n",
            "90/90 [==============================] - 1s 10ms/step - loss: 0.0027 - accuracy: 0.9997 - val_loss: 0.0936 - val_accuracy: 0.9773\n",
            "1/1 [==============================] - 0s 1ms/step - loss: 0.0641 - accuracy: 0.9844\n",
            "Epoch 1/3\n",
            "90/90 [==============================] - 1s 10ms/step - loss: 0.0032 - accuracy: 0.9993 - val_loss: 0.0963 - val_accuracy: 0.9781\n",
            "Epoch 2/3\n",
            "90/90 [==============================] - 1s 10ms/step - loss: 0.0025 - accuracy: 0.9997 - val_loss: 0.0950 - val_accuracy: 0.9777\n",
            "Epoch 3/3\n",
            "90/90 [==============================] - 1s 10ms/step - loss: 0.0033 - accuracy: 0.9994 - val_loss: 0.0974 - val_accuracy: 0.9773\n",
            "1/1 [==============================] - 0s 1ms/step - loss: 0.0705 - accuracy: 0.9844\n",
            "Epoch 1/3\n",
            "90/90 [==============================] - 1s 10ms/step - loss: 0.0036 - accuracy: 0.9991 - val_loss: 0.0927 - val_accuracy: 0.9793\n",
            "Epoch 2/3\n",
            "90/90 [==============================] - 1s 10ms/step - loss: 0.0029 - accuracy: 0.9995 - val_loss: 0.0917 - val_accuracy: 0.9785\n",
            "Epoch 3/3\n",
            "90/90 [==============================] - 1s 10ms/step - loss: 0.0031 - accuracy: 0.9995 - val_loss: 0.0894 - val_accuracy: 0.9785\n",
            "1/1 [==============================] - 0s 1ms/step - loss: 0.0619 - accuracy: 0.9844\n",
            "Epoch 1/3\n",
            "90/90 [==============================] - 1s 10ms/step - loss: 0.0026 - accuracy: 0.9997 - val_loss: 0.0937 - val_accuracy: 0.9785\n",
            "Epoch 2/3\n",
            "90/90 [==============================] - 1s 10ms/step - loss: 0.0025 - accuracy: 0.9996 - val_loss: 0.0930 - val_accuracy: 0.9797\n",
            "Epoch 3/3\n",
            "90/90 [==============================] - 1s 10ms/step - loss: 0.0024 - accuracy: 0.9996 - val_loss: 0.0936 - val_accuracy: 0.9793\n",
            "1/1 [==============================] - 0s 2ms/step - loss: 0.0613 - accuracy: 0.9883\n",
            "Epoch 1/3\n",
            "90/90 [==============================] - 1s 10ms/step - loss: 0.0028 - accuracy: 0.9994 - val_loss: 0.0931 - val_accuracy: 0.9777\n",
            "Epoch 2/3\n",
            "90/90 [==============================] - 1s 10ms/step - loss: 0.0024 - accuracy: 0.9995 - val_loss: 0.0961 - val_accuracy: 0.9797\n",
            "Epoch 3/3\n",
            "90/90 [==============================] - 1s 10ms/step - loss: 0.0024 - accuracy: 0.9996 - val_loss: 0.0924 - val_accuracy: 0.9801\n",
            "1/1 [==============================] - 0s 1ms/step - loss: 0.0661 - accuracy: 0.9883\n",
            "Epoch 1/3\n",
            "90/90 [==============================] - 1s 10ms/step - loss: 0.0018 - accuracy: 0.9998 - val_loss: 0.0955 - val_accuracy: 0.9781\n",
            "Epoch 2/3\n",
            "90/90 [==============================] - 1s 10ms/step - loss: 0.0023 - accuracy: 0.9996 - val_loss: 0.0963 - val_accuracy: 0.9781\n",
            "Epoch 3/3\n",
            "90/90 [==============================] - 1s 10ms/step - loss: 0.0026 - accuracy: 0.9996 - val_loss: 0.0960 - val_accuracy: 0.9805\n",
            "1/1 [==============================] - 0s 1ms/step - loss: 0.0694 - accuracy: 0.9844\n",
            "Epoch 1/3\n",
            "90/90 [==============================] - 1s 10ms/step - loss: 0.0024 - accuracy: 0.9995 - val_loss: 0.0934 - val_accuracy: 0.9801\n",
            "Epoch 2/3\n",
            "90/90 [==============================] - 1s 10ms/step - loss: 0.0023 - accuracy: 0.9995 - val_loss: 0.0939 - val_accuracy: 0.9805\n",
            "Epoch 3/3\n",
            "90/90 [==============================] - 1s 10ms/step - loss: 0.0030 - accuracy: 0.9992 - val_loss: 0.0962 - val_accuracy: 0.9797\n",
            "1/1 [==============================] - 0s 1ms/step - loss: 0.0709 - accuracy: 0.9844\n",
            "Epoch 1/3\n",
            "90/90 [==============================] - 1s 10ms/step - loss: 0.0021 - accuracy: 0.9997 - val_loss: 0.0980 - val_accuracy: 0.9785\n",
            "Epoch 2/3\n",
            "90/90 [==============================] - 1s 10ms/step - loss: 0.0022 - accuracy: 0.9995 - val_loss: 0.0926 - val_accuracy: 0.9797\n",
            "Epoch 3/3\n",
            "90/90 [==============================] - 1s 10ms/step - loss: 0.0022 - accuracy: 0.9995 - val_loss: 0.0929 - val_accuracy: 0.9797\n",
            "1/1 [==============================] - 0s 2ms/step - loss: 0.0711 - accuracy: 0.9844\n",
            "Epoch 1/3\n",
            "90/90 [==============================] - 1s 10ms/step - loss: 0.0023 - accuracy: 0.9996 - val_loss: 0.0914 - val_accuracy: 0.9797\n",
            "Epoch 2/3\n",
            "90/90 [==============================] - 1s 11ms/step - loss: 0.0023 - accuracy: 0.9996 - val_loss: 0.0952 - val_accuracy: 0.9805\n",
            "Epoch 3/3\n",
            "90/90 [==============================] - 1s 11ms/step - loss: 0.0017 - accuracy: 0.9997 - val_loss: 0.0968 - val_accuracy: 0.9801\n",
            "1/1 [==============================] - 0s 2ms/step - loss: 0.0806 - accuracy: 0.9844\n",
            "Epoch 1/3\n",
            "90/90 [==============================] - 1s 10ms/step - loss: 0.0023 - accuracy: 0.9995 - val_loss: 0.0953 - val_accuracy: 0.9809\n",
            "Epoch 2/3\n",
            "90/90 [==============================] - 1s 10ms/step - loss: 0.0020 - accuracy: 0.9995 - val_loss: 0.0977 - val_accuracy: 0.9785\n",
            "Epoch 3/3\n",
            "90/90 [==============================] - 1s 10ms/step - loss: 0.0023 - accuracy: 0.9994 - val_loss: 0.0955 - val_accuracy: 0.9805\n",
            "1/1 [==============================] - 0s 943us/step - loss: 0.0695 - accuracy: 0.9844\n",
            "Epoch 1/3\n",
            "90/90 [==============================] - 1s 10ms/step - loss: 0.0015 - accuracy: 0.9997 - val_loss: 0.0994 - val_accuracy: 0.9781\n",
            "Epoch 2/3\n",
            "90/90 [==============================] - 1s 10ms/step - loss: 0.0020 - accuracy: 0.9997 - val_loss: 0.0955 - val_accuracy: 0.9801\n",
            "Epoch 3/3\n",
            "90/90 [==============================] - 1s 10ms/step - loss: 0.0019 - accuracy: 0.9997 - val_loss: 0.0967 - val_accuracy: 0.9793\n",
            "1/1 [==============================] - 0s 1ms/step - loss: 0.0814 - accuracy: 0.9844\n",
            "Epoch 1/3\n",
            "90/90 [==============================] - 1s 10ms/step - loss: 0.0017 - accuracy: 0.9998 - val_loss: 0.0945 - val_accuracy: 0.9820\n",
            "Epoch 2/3\n",
            "90/90 [==============================] - 1s 10ms/step - loss: 0.0021 - accuracy: 0.9996 - val_loss: 0.1011 - val_accuracy: 0.9793\n",
            "Epoch 3/3\n",
            "90/90 [==============================] - 1s 10ms/step - loss: 0.0019 - accuracy: 0.9997 - val_loss: 0.0995 - val_accuracy: 0.9789\n",
            "1/1 [==============================] - 0s 1ms/step - loss: 0.0882 - accuracy: 0.9805\n",
            "Epoch 1/3\n",
            "90/90 [==============================] - 1s 10ms/step - loss: 0.0014 - accuracy: 0.9999 - val_loss: 0.1008 - val_accuracy: 0.9805\n",
            "Epoch 2/3\n",
            "90/90 [==============================] - 1s 10ms/step - loss: 0.0020 - accuracy: 0.9995 - val_loss: 0.1000 - val_accuracy: 0.9805\n",
            "Epoch 3/3\n",
            "90/90 [==============================] - 1s 10ms/step - loss: 0.0017 - accuracy: 0.9996 - val_loss: 0.1028 - val_accuracy: 0.9805\n",
            "1/1 [==============================] - 0s 1ms/step - loss: 0.0850 - accuracy: 0.9844\n",
            "Epoch 1/3\n",
            "90/90 [==============================] - 1s 10ms/step - loss: 0.0017 - accuracy: 0.9997 - val_loss: 0.1003 - val_accuracy: 0.9801\n",
            "Epoch 2/3\n",
            "90/90 [==============================] - 1s 10ms/step - loss: 0.0015 - accuracy: 0.9998 - val_loss: 0.0980 - val_accuracy: 0.9805\n",
            "Epoch 3/3\n",
            "90/90 [==============================] - 1s 10ms/step - loss: 0.0014 - accuracy: 0.9998 - val_loss: 0.0983 - val_accuracy: 0.9797\n",
            "1/1 [==============================] - 0s 1ms/step - loss: 0.0794 - accuracy: 0.9844\n",
            "Epoch 1/3\n",
            "90/90 [==============================] - 1s 10ms/step - loss: 0.0015 - accuracy: 0.9997 - val_loss: 0.1039 - val_accuracy: 0.9793\n",
            "Epoch 2/3\n",
            "90/90 [==============================] - 1s 10ms/step - loss: 0.0018 - accuracy: 0.9996 - val_loss: 0.0997 - val_accuracy: 0.9781\n",
            "Epoch 3/3\n",
            "90/90 [==============================] - 1s 10ms/step - loss: 0.0013 - accuracy: 0.9998 - val_loss: 0.1036 - val_accuracy: 0.9812\n",
            "1/1 [==============================] - 0s 1ms/step - loss: 0.0701 - accuracy: 0.9805\n",
            "Epoch 1/3\n",
            "90/90 [==============================] - 1s 10ms/step - loss: 0.0013 - accuracy: 0.9998 - val_loss: 0.1039 - val_accuracy: 0.9793\n",
            "Epoch 2/3\n",
            "90/90 [==============================] - 1s 10ms/step - loss: 0.0014 - accuracy: 0.9997 - val_loss: 0.1100 - val_accuracy: 0.9801\n",
            "Epoch 3/3\n",
            "90/90 [==============================] - 1s 10ms/step - loss: 0.0018 - accuracy: 0.9996 - val_loss: 0.1018 - val_accuracy: 0.9797\n",
            "1/1 [==============================] - 0s 2ms/step - loss: 0.0834 - accuracy: 0.9805\n",
            "Epoch 1/3\n",
            "90/90 [==============================] - 1s 10ms/step - loss: 0.0014 - accuracy: 0.9998 - val_loss: 0.1062 - val_accuracy: 0.9789\n",
            "Epoch 2/3\n",
            "90/90 [==============================] - 1s 10ms/step - loss: 0.0015 - accuracy: 0.9996 - val_loss: 0.1003 - val_accuracy: 0.9801\n",
            "Epoch 3/3\n",
            "90/90 [==============================] - 1s 10ms/step - loss: 0.0014 - accuracy: 0.9998 - val_loss: 0.1006 - val_accuracy: 0.9793\n",
            "1/1 [==============================] - 0s 1ms/step - loss: 0.0684 - accuracy: 0.9844\n",
            "Epoch 1/3\n",
            "90/90 [==============================] - 1s 10ms/step - loss: 0.0016 - accuracy: 0.9997 - val_loss: 0.1041 - val_accuracy: 0.9789\n",
            "Epoch 2/3\n",
            "90/90 [==============================] - 1s 10ms/step - loss: 0.0013 - accuracy: 0.9997 - val_loss: 0.1037 - val_accuracy: 0.9789\n",
            "Epoch 3/3\n",
            "90/90 [==============================] - 1s 10ms/step - loss: 0.0015 - accuracy: 0.9997 - val_loss: 0.1052 - val_accuracy: 0.9793\n",
            "1/1 [==============================] - 0s 1ms/step - loss: 0.0802 - accuracy: 0.9844\n",
            "Epoch 1/3\n",
            "90/90 [==============================] - 1s 10ms/step - loss: 0.0013 - accuracy: 0.9997 - val_loss: 0.1075 - val_accuracy: 0.9785\n",
            "Epoch 2/3\n",
            "90/90 [==============================] - 1s 10ms/step - loss: 0.0011 - accuracy: 0.9997 - val_loss: 0.1058 - val_accuracy: 0.9801\n",
            "Epoch 3/3\n",
            "90/90 [==============================] - 1s 10ms/step - loss: 0.0013 - accuracy: 0.9998 - val_loss: 0.1036 - val_accuracy: 0.9797\n",
            "1/1 [==============================] - 0s 1ms/step - loss: 0.0788 - accuracy: 0.9844\n",
            "Epoch 1/3\n",
            "90/90 [==============================] - 1s 10ms/step - loss: 0.0016 - accuracy: 0.9997 - val_loss: 0.1049 - val_accuracy: 0.9801\n",
            "Epoch 2/3\n",
            "90/90 [==============================] - 1s 10ms/step - loss: 0.0012 - accuracy: 0.9999 - val_loss: 0.0961 - val_accuracy: 0.9809\n",
            "Epoch 3/3\n",
            "90/90 [==============================] - 1s 10ms/step - loss: 9.2642e-04 - accuracy: 0.9998 - val_loss: 0.1008 - val_accuracy: 0.9793\n",
            "1/1 [==============================] - 0s 1ms/step - loss: 0.0761 - accuracy: 0.9844\n",
            "Epoch 1/3\n",
            "90/90 [==============================] - 1s 10ms/step - loss: 0.0011 - accuracy: 0.9998 - val_loss: 0.1006 - val_accuracy: 0.9797\n",
            "Epoch 2/3\n",
            "90/90 [==============================] - 1s 10ms/step - loss: 0.0014 - accuracy: 0.9997 - val_loss: 0.1042 - val_accuracy: 0.9793\n",
            "Epoch 3/3\n",
            "90/90 [==============================] - 1s 10ms/step - loss: 9.0546e-04 - accuracy: 0.9999 - val_loss: 0.1091 - val_accuracy: 0.9789\n",
            "1/1 [==============================] - 0s 1ms/step - loss: 0.0802 - accuracy: 0.9844\n",
            "Epoch 1/3\n",
            "90/90 [==============================] - 1s 10ms/step - loss: 0.0010 - accuracy: 0.9998 - val_loss: 0.1046 - val_accuracy: 0.9805\n",
            "Epoch 2/3\n",
            "90/90 [==============================] - 1s 10ms/step - loss: 0.0012 - accuracy: 0.9998 - val_loss: 0.1016 - val_accuracy: 0.9809\n",
            "Epoch 3/3\n",
            "90/90 [==============================] - 1s 10ms/step - loss: 0.0013 - accuracy: 0.9997 - val_loss: 0.1015 - val_accuracy: 0.9824\n",
            "1/1 [==============================] - 0s 1ms/step - loss: 0.0775 - accuracy: 0.9844\n",
            "Epoch 1/3\n",
            "90/90 [==============================] - 1s 10ms/step - loss: 7.4709e-04 - accuracy: 1.0000 - val_loss: 0.1032 - val_accuracy: 0.9816\n",
            "Epoch 2/3\n",
            "90/90 [==============================] - 1s 10ms/step - loss: 0.0010 - accuracy: 0.9998 - val_loss: 0.0986 - val_accuracy: 0.9828\n",
            "Epoch 3/3\n",
            "90/90 [==============================] - 1s 10ms/step - loss: 9.9025e-04 - accuracy: 0.9998 - val_loss: 0.1027 - val_accuracy: 0.9820\n",
            "1/1 [==============================] - 0s 1ms/step - loss: 0.0742 - accuracy: 0.9844\n",
            "Epoch 1/3\n",
            "90/90 [==============================] - 1s 10ms/step - loss: 0.0010 - accuracy: 0.9998 - val_loss: 0.1013 - val_accuracy: 0.9816\n",
            "Epoch 2/3\n",
            "90/90 [==============================] - 1s 10ms/step - loss: 9.6624e-04 - accuracy: 0.9998 - val_loss: 0.1072 - val_accuracy: 0.9812\n",
            "Epoch 3/3\n",
            "90/90 [==============================] - 1s 10ms/step - loss: 0.0012 - accuracy: 0.9997 - val_loss: 0.1067 - val_accuracy: 0.9805\n",
            "1/1 [==============================] - 0s 1ms/step - loss: 0.0853 - accuracy: 0.9844\n",
            "Epoch 1/3\n",
            "90/90 [==============================] - 1s 10ms/step - loss: 8.9182e-04 - accuracy: 0.9999 - val_loss: 0.1130 - val_accuracy: 0.9781\n",
            "Epoch 2/3\n",
            "90/90 [==============================] - 1s 10ms/step - loss: 0.0013 - accuracy: 0.9997 - val_loss: 0.1082 - val_accuracy: 0.9789\n",
            "Epoch 3/3\n",
            "90/90 [==============================] - 1s 10ms/step - loss: 0.0012 - accuracy: 0.9997 - val_loss: 0.1097 - val_accuracy: 0.9805\n",
            "1/1 [==============================] - 0s 1ms/step - loss: 0.0743 - accuracy: 0.9883\n",
            "Epoch 1/3\n",
            "90/90 [==============================] - 1s 10ms/step - loss: 0.0011 - accuracy: 0.9997 - val_loss: 0.1046 - val_accuracy: 0.9793\n",
            "Epoch 2/3\n",
            "90/90 [==============================] - 1s 10ms/step - loss: 9.2099e-04 - accuracy: 0.9998 - val_loss: 0.1018 - val_accuracy: 0.9797\n",
            "Epoch 3/3\n",
            "90/90 [==============================] - 1s 10ms/step - loss: 0.0011 - accuracy: 0.9997 - val_loss: 0.1087 - val_accuracy: 0.9793\n",
            "1/1 [==============================] - 0s 2ms/step - loss: 0.0906 - accuracy: 0.9844\n",
            "1/1 [==============================] - 0s 1ms/step - loss: 0.0906 - accuracy: 0.9844\n",
            "Test accuracy :  0.09056036919355392 0.984375\n"
          ],
          "name": "stdout"
        }
      ]
    },
    {
      "cell_type": "code",
      "metadata": {
        "id": "d7ApRxERmfNa",
        "colab_type": "code",
        "outputId": "d3493769-d163-4b76-d0ef-2364327bbabe",
        "colab": {
          "base_uri": "https://localhost:8080/",
          "height": 33
        }
      },
      "source": [
        "print(\"The time taken is \" + str(finish - start))"
      ],
      "execution_count": 8,
      "outputs": [
        {
          "output_type": "stream",
          "text": [
            "The time taken is 175.76650263500005\n"
          ],
          "name": "stdout"
        }
      ]
    },
    {
      "cell_type": "markdown",
      "metadata": {
        "id": "tp2lCyyeJ08V",
        "colab_type": "text"
      },
      "source": [
        "Plotting the test error graph"
      ]
    },
    {
      "cell_type": "code",
      "metadata": {
        "id": "ZuXM7ZobXcId",
        "colab_type": "code",
        "outputId": "9d5cb4ee-ad46-437d-d727-9bd3fd68eb19",
        "colab": {
          "base_uri": "https://localhost:8080/",
          "height": 311
        }
      },
      "source": [
        "# Plotting the graph of varying test error against weight updates\n",
        "plt.plot(x_plt, y_acc, color='green', linewidth = 1)\n",
        "plt.ylim(0,0.15) \n",
        "plt.xlim(0,18000) \n",
        "  \n",
        "# Naming the axes \n",
        "plt.xlabel('Number of weight updates')  \n",
        "plt.ylabel('Test error') \n",
        "  \n",
        "# Giving a title to the graph \n",
        "plt.title('Test Set') \n",
        "  \n",
        "# Displaying the plot \n",
        "plt.show()\n",
        "\n",
        "print(\"The time taken is \" + str(finish - start)) "
      ],
      "execution_count": 10,
      "outputs": [
        {
          "output_type": "display_data",
          "data": {
            "image/png": "[encoded data removed]",
            "text/plain": [
              "<Figure size 432x288 with 1 Axes>"
            ]
          },
          "metadata": {
            "tags": [],
            "needs_background": "light"
          }
        },
        {
          "output_type": "stream",
          "text": [
            "The time taken is 175.76650263500005\n"
          ],
          "name": "stdout"
        }
      ]
    },
    {
      "cell_type": "code",
      "metadata": {
        "id": "4f3Mw0Htyf_8",
        "colab_type": "code",
        "colab": {}
      },
      "source": [
        "\n",
        "\n"
      ],
      "execution_count": 0,
      "outputs": []
    }
  ]
}