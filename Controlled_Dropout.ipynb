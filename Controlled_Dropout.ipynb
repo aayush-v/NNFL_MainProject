{
  "nbformat": 4,
  "nbformat_minor": 0,
  "metadata": {
    "colab": {
      "name": "NNFL_mainProj.ipynb",
      "provenance": [],
      "collapsed_sections": []
    },
    "kernelspec": {
      "name": "python3",
      "display_name": "Python 3"
    },
    "accelerator": "GPU"
  },
  "cells": [
    {
      "cell_type": "code",
      "metadata": {
        "id": "kTd94AM1aoen",
        "colab_type": "code",
        "outputId": "b3e3c151-84e9-4890-c32c-4c14dae7f702",
        "colab": {
          "base_uri": "https://localhost:8080/",
          "height": 33
        }
      },
      "source": [
        "# All imports\n",
        "\n",
        "import numpy as np\n",
        "import torch\n",
        "import torch.optim as optim\n",
        "import torch.nn as nn\n",
        "import pandas as pd\n",
        "\n",
        "import matplotlib.pyplot as plt\n",
        "from __future__ import print_function\n",
        "import keras\n",
        "from keras.datasets import mnist\n",
        "from keras import backend as K\n",
        "import torch.nn.functional as F\n",
        "\n",
        "import timeit\n",
        "import random"
      ],
      "execution_count": 1,
      "outputs": [
        {
          "output_type": "stream",
          "text": [
            "Using TensorFlow backend.\n"
          ],
          "name": "stderr"
        }
      ]
    },
    {
      "cell_type": "code",
      "metadata": {
        "id": "r3LIc_5skxLa",
        "colab_type": "code",
        "colab": {}
      },
      "source": [
        "# GPU support\n",
        "use_cuda = True"
      ],
      "execution_count": 0,
      "outputs": []
    },
    {
      "cell_type": "markdown",
      "metadata": {
        "id": "iuz3dszaHAwL",
        "colab_type": "text"
      },
      "source": [
        "#Loading the dataset"
      ]
    },
    {
      "cell_type": "code",
      "metadata": {
        "id": "4OEDFwMVlHJm",
        "colab_type": "code",
        "outputId": "7ece7caa-ae1c-4ca4-ace2-aa218a699f4e",
        "colab": {
          "base_uri": "https://localhost:8080/",
          "height": 313
        }
      },
      "source": [
        "# loading the MNIST dataset, split between train and test sets\n",
        "(x_train, y_train), (x_test, y_test) = mnist.load_data()\n",
        "\n",
        "\n",
        "# To print the image of the written number along with the value in the y column\n",
        "image_index = 1                 # You may select anything up to y_train.shape[0]\n",
        "\n",
        "plt.imshow(x_train[image_index], cmap='Greys')\n",
        "print(\"The handwritten number is \", y_train[image_index])"
      ],
      "execution_count": 3,
      "outputs": [
        {
          "output_type": "stream",
          "text": [
            "Downloading data from https://s3.amazonaws.com/img-datasets/mnist.npz\n",
            "11493376/11490434 [==============================] - 2s 0us/step\n",
            "The handwritten number is  0\n"
          ],
          "name": "stdout"
        },
        {
          "output_type": "display_data",
          "data": {
            "image/png": "[encoded data removed]",
            "text/plain": [
              "<Figure size 432x288 with 1 Axes>"
            ]
          },
          "metadata": {
            "tags": [],
            "needs_background": "light"
          }
        }
      ]
    },
    {
      "cell_type": "markdown",
      "metadata": {
        "id": "cyz2HkPNHLJe",
        "colab_type": "text"
      },
      "source": [
        "#Preprocessing the Dataset"
      ]
    },
    {
      "cell_type": "code",
      "metadata": {
        "id": "uRdfobzzliHW",
        "colab_type": "code",
        "colab": {}
      },
      "source": [
        "x_train = x_train.reshape(x_train.shape[0], 28, 28, 1)\n",
        "x_test = x_test.reshape(x_test.shape[0], 28, 28, 1)\n",
        "\n",
        "# Ensuring the datatype is float\n",
        "x_train = x_train.astype('float32')\n",
        "x_test = x_test.astype('float32')\n",
        "\n",
        "# Normalizing RGB codes by dividing by the max RGB value.\n",
        "x_train /= 255\n",
        "x_test /= 255\n",
        "\n",
        "y_train.reshape(y_train.shape[0],1)\n",
        "y_test.reshape(y_test.shape[0],1)\n",
        "\n",
        "# Converting to categorical values, one hot encoding\n",
        "num_classes = 10\n",
        "y_train = keras.utils.to_categorical(y_train, num_classes)\n",
        "y_test = keras.utils.to_categorical(y_test, num_classes)\n",
        "\n",
        "# print('x_train shape:', x_train.shape)\n",
        "# print('Number of images in x_train', x_train.shape[0])\n",
        "# print('Number of images in x_test', x_test.shape[0])"
      ],
      "execution_count": 0,
      "outputs": []
    },
    {
      "cell_type": "code",
      "metadata": {
        "id": "YkGJMzSOmORW",
        "colab_type": "code",
        "colab": {}
      },
      "source": [
        "# Converting training and test sets to tensor from numpy\n",
        "x_train = torch.from_numpy(x_train)\n",
        "y_train = torch.from_numpy(y_train)\n",
        "\n",
        "x_test = torch.from_numpy(x_test)\n",
        "y_test = torch.from_numpy(y_test)"
      ],
      "execution_count": 0,
      "outputs": []
    },
    {
      "cell_type": "code",
      "metadata": {
        "id": "KyhHFfzfmX8P",
        "colab_type": "code",
        "colab": {}
      },
      "source": [
        "# Creating training set\n",
        "training_size = 256"
      ],
      "execution_count": 0,
      "outputs": []
    },
    {
      "cell_type": "code",
      "metadata": {
        "id": "NBEJgJ8Cmcpx",
        "colab_type": "code",
        "colab": {}
      },
      "source": [
        "# Creating test set\n",
        "test_size = 256"
      ],
      "execution_count": 0,
      "outputs": []
    },
    {
      "cell_type": "markdown",
      "metadata": {
        "id": "L3UR9RRMHRst",
        "colab_type": "text"
      },
      "source": [
        "#Creating the Neural Network Architecture"
      ]
    },
    {
      "cell_type": "code",
      "metadata": {
        "id": "J_lNr9pSmlsD",
        "colab_type": "code",
        "colab": {}
      },
      "source": [
        "# Function for randomising the chosen rows weights for controlled dropout\n",
        "def controlled_drop(n):\n",
        "  return (random.randint(0,2000 - n))"
      ],
      "execution_count": 0,
      "outputs": []
    },
    {
      "cell_type": "code",
      "metadata": {
        "id": "ugn7BdNkmqjc",
        "colab_type": "code",
        "colab": {}
      },
      "source": [
        "# CREATING NN ARCHITECTURE 784-2000-2000-10\n",
        "\n",
        "class myNN(nn.Module):\n",
        "  def __init__(self):\n",
        "    super(myNN, self).__init__()    \n",
        "    self.weights1 = nn.Parameter(torch.randn(784,2000)*0.1)     # Declaring 'weights' layerwise for each neuron in the neural network\n",
        "    self.weights2 = nn.Parameter(torch.randn(2000,2000)*0.1)\n",
        "    self.weights3 = nn.Parameter(torch.randn(2000,10)*0.1)\n",
        "    self.bias1 = nn.Parameter(torch.randn(1,2000))              # Declaring 'biases' layerwise for each neuron in the neural network \n",
        "    self.bias2 = nn.Parameter(torch.randn(1,2000))\n",
        "    self.bias3 = nn.Parameter(torch.randn(1,10))\n",
        "\n",
        "    self.bias1.requires_grad_()                                 # Including biases in the gradient calculation for backprop\n",
        "    self.bias2.requires_grad_()\n",
        "    self.bias3.requires_grad_()\n",
        "\n",
        "    self.weights1.requires_grad_()                              # Including weights in the gradient calculation for backprop\n",
        "    self.weights2.requires_grad_()\n",
        "    self.weights3.requires_grad_()\n",
        "\n",
        "  def forward(self, X_train,dp):\n",
        "      h1 = torch.matmul(X_train,self.weights1 ) + self.bias1                                                      # Calculating the 'WX + b' for hidden layer 1 \n",
        "      a1 = h1.relu()                                                                                              # ReLU activation on hidden layer 1\n",
        "      \n",
        "      drop1 = controlled_drop(dp)                                                                                 # Finding a random initial index for dropout\n",
        "      # a1 /= (dp/2000)       # Adjusting the output reduction due to dropout not required this way since we directly adjust it in h2 itself \n",
        "      h2 = (torch.matmul( a1[:,drop1:drop1 + dp] , self.weights2[drop1:drop1+dp,:]  ) *(2000/dp)) + self.bias2    # Calculating the 'WX + b' for hidden layer 2 with dropout for layer 1 applied\n",
        "      a2 = h2.relu()                                                                                              # ReLU activation on hidden layer 2\n",
        "      \n",
        "      drop2 = controlled_drop(dp)                                                                                 # Finding a random initial index for dropout\n",
        "      # a2 /= (dp/2000)       # Adjusting the output reduction due to dropout not required this way\n",
        "      h3 = (torch.matmul( a2[:,drop2:drop2 + dp] , self.weights3[drop2: drop2+dp,:]  ) *(2000/dp)) + self.bias3   # Calculating the 'WX + b' for output layer with dropout for layer 2 applied\n",
        "      return h3\n",
        "   "
      ],
      "execution_count": 0,
      "outputs": []
    },
    {
      "cell_type": "markdown",
      "metadata": {
        "id": "JKz2U_V7Hafn",
        "colab_type": "text"
      },
      "source": [
        "Forward Propagation"
      ]
    },
    {
      "cell_type": "code",
      "metadata": {
        "id": "-7w3Cdo0nZ3y",
        "colab_type": "code",
        "colab": {}
      },
      "source": [
        "def training_drop(myXtrain, myYtrain, firstNN, epochs, opti, criterion): \n",
        "  x_plt_points = []\n",
        "  y_plt_points = []\n",
        "  y_plt_acc = []\n",
        "\n",
        "  # Training the model for epochs number of weight updates\n",
        "  for epoch in range(epochs):\n",
        "      \n",
        "    start_index = (epoch*training_size)%25600                 # Test set size is 25600\n",
        "    myXtrain = x_train[start_index :start_index + training_size, :].reshape(training_size,784)\n",
        "    myYtrain = y_train[start_index :start_index + training_size, :].reshape(training_size,10)\n",
        "\n",
        "    y_out = firstNN(myXtrain,1000)                            # Dropout for 50% applied\n",
        "    lossNN = criterion(y_out, torch.max(myYtrain, 1)[1]) # No doubling because the adjustment has been taken care of in the expression after dropout itself\n",
        "    opti.zero_grad()\n",
        "    lossNN.backward()                                         # Back Prop done for variables with require_grad\n",
        "    opti.step()                                               # Weight update done\n",
        "\n",
        "    if epoch%250 == 0:                                        # Evaluating the model after every 250 weight updates on the MNIST test set\n",
        "      myXtest = x_test[0:test_size, :].reshape(test_size, 784)\n",
        "      myYtest = y_test[0:test_size, :].reshape(test_size, 10)\n",
        "    \n",
        "      y_outtest = firstNN(myXtest,2000)                       # Forward prop on test set followed by loss calculation\n",
        "      lossNNtest = criterion(y_outtest, torch.max(myYtest, 1)[1])\n",
        "\n",
        "      correct_test = torch.eq(torch.max(y_outtest, 1)[1], torch.max(myYtest, 1)[1]).sum()\n",
        "      print(\"Epoch : \", epoch, \"Loss : \", lossNNtest.item(), \", Test Set error : \", 1 - correct_test.item()/ test_size, \", Test accuracy is : \", 100 * correct_test.item()/ test_size )\n",
        "\n",
        "      x_plt_points.append(epoch)                              # Saving test_error along with the corresponding iteration_gonumber to plot the graph\n",
        "      y_plt_points.append(lossNNtest.item())\n",
        "      y_plt_acc.append(1 - correct_test.item()/ test_size)\n",
        "\n",
        "\n",
        "  plt.plot(x_plt_points, y_plt_acc, color='green', linewidth = 1)\n",
        "  plt.ylim(0,0.15) \n",
        "  plt.xlim(0,epochs) \n",
        "    \n",
        "  # Naming the axes \n",
        "  plt.xlabel('Number of iterations')  \n",
        "  plt.ylabel('Test error') \n",
        "    \n",
        "  # Giving a title to the graph \n",
        "  plt.title('Test Set') \n",
        "    \n",
        "  # Displaying the plot \n",
        "  plt.show()\n",
        "   \n",
        "  \n"
      ],
      "execution_count": 0,
      "outputs": []
    },
    {
      "cell_type": "markdown",
      "metadata": {
        "id": "tj2Knuk-Hduv",
        "colab_type": "text"
      },
      "source": [
        "#Creating a Neural Network"
      ]
    },
    {
      "cell_type": "code",
      "metadata": {
        "id": "G5KbuZB1D1kc",
        "colab_type": "code",
        "colab": {}
      },
      "source": [
        "firstNN = myNN()"
      ],
      "execution_count": 0,
      "outputs": []
    },
    {
      "cell_type": "code",
      "metadata": {
        "id": "M66KFm51nM_8",
        "colab_type": "code",
        "colab": {}
      },
      "source": [
        "# Defining the conditionalities for training \n",
        "criterion = nn.CrossEntropyLoss()\n",
        "opti = optim.Adam(firstNN.parameters(), lr = 0.00005, betas=(0.9,0.999), eps=1e-07, amsgrad=False )"
      ],
      "execution_count": 0,
      "outputs": []
    },
    {
      "cell_type": "code",
      "metadata": {
        "id": "mCCGrvREnAE_",
        "colab_type": "code",
        "colab": {}
      },
      "source": [
        "# Enabling GPU support for forward and backprop\n",
        "device = torch.device(\"cuda\")\n",
        "\n",
        "x_train = x_train.to(device)\n",
        "y_train = y_train.to(device)\n",
        "firstNN = firstNN.to(device)\n",
        "x_test = x_test.to(device)\n",
        "y_test = y_test.to(device)"
      ],
      "execution_count": 0,
      "outputs": []
    },
    {
      "cell_type": "markdown",
      "metadata": {
        "id": "P7QaPIyBHjlb",
        "colab_type": "text"
      },
      "source": [
        "Training the model"
      ]
    },
    {
      "cell_type": "code",
      "metadata": {
        "id": "nN-4V0fYnGpX",
        "colab_type": "code",
        "outputId": "ddc6ed79-ba44-4410-e814-980be0925b7f",
        "colab": {
          "base_uri": "https://localhost:8080/",
          "height": 1000
        }
      },
      "source": [
        "# Start training the model\n",
        "epochs= 18000\n",
        "start = timeit.default_timer()\n",
        "\n",
        "training_drop(x_train, y_train, firstNN, epochs, opti, criterion)\n",
        "\n",
        "end = timeit.default_timer()\n",
        "print(\"Total time taken is : \", end - start)"
      ],
      "execution_count": 14,
      "outputs": [
        {
          "output_type": "stream",
          "text": [
            "Epoch :  0 Loss :  23.363033294677734 , Test Set error :  0.9140625 , Test accuracy is :  8.59375\n",
            "Epoch :  250 Loss :  3.2620954513549805 , Test Set error :  0.40234375 , Test accuracy is :  59.765625\n",
            "Epoch :  500 Loss :  1.6530513763427734 , Test Set error :  0.24609375 , Test accuracy is :  75.390625\n",
            "Epoch :  750 Loss :  1.1604715585708618 , Test Set error :  0.16796875 , Test accuracy is :  83.203125\n",
            "Epoch :  1000 Loss :  1.0558435916900635 , Test Set error :  0.16015625 , Test accuracy is :  83.984375\n",
            "Epoch :  1250 Loss :  0.8112967610359192 , Test Set error :  0.1328125 , Test accuracy is :  86.71875\n",
            "Epoch :  1500 Loss :  0.789681077003479 , Test Set error :  0.1328125 , Test accuracy is :  86.71875\n",
            "Epoch :  1750 Loss :  0.6843985319137573 , Test Set error :  0.12890625 , Test accuracy is :  87.109375\n",
            "Epoch :  2000 Loss :  0.5252882242202759 , Test Set error :  0.10546875 , Test accuracy is :  89.453125\n",
            "Epoch :  2250 Loss :  0.4657825827598572 , Test Set error :  0.0859375 , Test accuracy is :  91.40625\n",
            "Epoch :  2500 Loss :  0.42538270354270935 , Test Set error :  0.09765625 , Test accuracy is :  90.234375\n",
            "Epoch :  2750 Loss :  0.37866199016571045 , Test Set error :  0.0859375 , Test accuracy is :  91.40625\n",
            "Epoch :  3000 Loss :  0.370629221200943 , Test Set error :  0.0859375 , Test accuracy is :  91.40625\n",
            "Epoch :  3250 Loss :  0.26116105914115906 , Test Set error :  0.06640625 , Test accuracy is :  93.359375\n",
            "Epoch :  3500 Loss :  0.3381275534629822 , Test Set error :  0.06640625 , Test accuracy is :  93.359375\n",
            "Epoch :  3750 Loss :  0.21411608159542084 , Test Set error :  0.046875 , Test accuracy is :  95.3125\n",
            "Epoch :  4000 Loss :  0.19721382856369019 , Test Set error :  0.03515625 , Test accuracy is :  96.484375\n",
            "Epoch :  4250 Loss :  0.1874658167362213 , Test Set error :  0.05078125 , Test accuracy is :  94.921875\n",
            "Epoch :  4500 Loss :  0.20134471356868744 , Test Set error :  0.0546875 , Test accuracy is :  94.53125\n",
            "Epoch :  4750 Loss :  0.2182927131652832 , Test Set error :  0.04296875 , Test accuracy is :  95.703125\n",
            "Epoch :  5000 Loss :  0.18299773335456848 , Test Set error :  0.04296875 , Test accuracy is :  95.703125\n",
            "Epoch :  5250 Loss :  0.22297315299510956 , Test Set error :  0.04296875 , Test accuracy is :  95.703125\n",
            "Epoch :  5500 Loss :  0.17765463888645172 , Test Set error :  0.04296875 , Test accuracy is :  95.703125\n",
            "Epoch :  5750 Loss :  0.22083193063735962 , Test Set error :  0.046875 , Test accuracy is :  95.3125\n",
            "Epoch :  6000 Loss :  0.20826928317546844 , Test Set error :  0.046875 , Test accuracy is :  95.3125\n",
            "Epoch :  6250 Loss :  0.1671503335237503 , Test Set error :  0.03125 , Test accuracy is :  96.875\n",
            "Epoch :  6500 Loss :  0.14923623204231262 , Test Set error :  0.02734375 , Test accuracy is :  97.265625\n",
            "Epoch :  6750 Loss :  0.17586985230445862 , Test Set error :  0.03515625 , Test accuracy is :  96.484375\n",
            "Epoch :  7000 Loss :  0.1611105501651764 , Test Set error :  0.03515625 , Test accuracy is :  96.484375\n",
            "Epoch :  7250 Loss :  0.13994169235229492 , Test Set error :  0.02734375 , Test accuracy is :  97.265625\n",
            "Epoch :  7500 Loss :  0.1547338217496872 , Test Set error :  0.0390625 , Test accuracy is :  96.09375\n",
            "Epoch :  7750 Loss :  0.16703377664089203 , Test Set error :  0.03515625 , Test accuracy is :  96.484375\n",
            "Epoch :  8000 Loss :  0.19293472170829773 , Test Set error :  0.046875 , Test accuracy is :  95.3125\n",
            "Epoch :  8250 Loss :  0.18095934391021729 , Test Set error :  0.02734375 , Test accuracy is :  97.265625\n",
            "Epoch :  8500 Loss :  0.18064436316490173 , Test Set error :  0.03125 , Test accuracy is :  96.875\n",
            "Epoch :  8750 Loss :  0.2116452306509018 , Test Set error :  0.03125 , Test accuracy is :  96.875\n",
            "Epoch :  9000 Loss :  0.14174112677574158 , Test Set error :  0.01953125 , Test accuracy is :  98.046875\n",
            "Epoch :  9250 Loss :  0.13953649997711182 , Test Set error :  0.01953125 , Test accuracy is :  98.046875\n",
            "Epoch :  9500 Loss :  0.13230550289154053 , Test Set error :  0.01953125 , Test accuracy is :  98.046875\n",
            "Epoch :  9750 Loss :  0.14143091440200806 , Test Set error :  0.02734375 , Test accuracy is :  97.265625\n",
            "Epoch :  10000 Loss :  0.13394948840141296 , Test Set error :  0.02734375 , Test accuracy is :  97.265625\n",
            "Epoch :  10250 Loss :  0.13685764372348785 , Test Set error :  0.0234375 , Test accuracy is :  97.65625\n",
            "Epoch :  10500 Loss :  0.14603635668754578 , Test Set error :  0.02734375 , Test accuracy is :  97.265625\n",
            "Epoch :  10750 Loss :  0.13400088250637054 , Test Set error :  0.0234375 , Test accuracy is :  97.65625\n",
            "Epoch :  11000 Loss :  0.14160406589508057 , Test Set error :  0.015625 , Test accuracy is :  98.4375\n",
            "Epoch :  11250 Loss :  0.1214524507522583 , Test Set error :  0.01953125 , Test accuracy is :  98.046875\n",
            "Epoch :  11500 Loss :  0.14967840909957886 , Test Set error :  0.03515625 , Test accuracy is :  96.484375\n",
            "Epoch :  11750 Loss :  0.13854089379310608 , Test Set error :  0.015625 , Test accuracy is :  98.4375\n",
            "Epoch :  12000 Loss :  0.15234491229057312 , Test Set error :  0.02734375 , Test accuracy is :  97.265625\n",
            "Epoch :  12250 Loss :  0.12337423861026764 , Test Set error :  0.015625 , Test accuracy is :  98.4375\n",
            "Epoch :  12500 Loss :  0.13084618747234344 , Test Set error :  0.0234375 , Test accuracy is :  97.65625\n",
            "Epoch :  12750 Loss :  0.11335764825344086 , Test Set error :  0.015625 , Test accuracy is :  98.4375\n",
            "Epoch :  13000 Loss :  0.11512578278779984 , Test Set error :  0.015625 , Test accuracy is :  98.4375\n",
            "Epoch :  13250 Loss :  0.1506013572216034 , Test Set error :  0.03125 , Test accuracy is :  96.875\n",
            "Epoch :  13500 Loss :  0.13487458229064941 , Test Set error :  0.02734375 , Test accuracy is :  97.265625\n",
            "Epoch :  13750 Loss :  0.13574238121509552 , Test Set error :  0.01953125 , Test accuracy is :  98.046875\n",
            "Epoch :  14000 Loss :  0.13338038325309753 , Test Set error :  0.01953125 , Test accuracy is :  98.046875\n",
            "Epoch :  14250 Loss :  0.12483181059360504 , Test Set error :  0.01953125 , Test accuracy is :  98.046875\n",
            "Epoch :  14500 Loss :  0.1641084998846054 , Test Set error :  0.02734375 , Test accuracy is :  97.265625\n",
            "Epoch :  14750 Loss :  0.13049577176570892 , Test Set error :  0.01953125 , Test accuracy is :  98.046875\n",
            "Epoch :  15000 Loss :  0.12990702688694 , Test Set error :  0.01953125 , Test accuracy is :  98.046875\n",
            "Epoch :  15250 Loss :  0.15944266319274902 , Test Set error :  0.0234375 , Test accuracy is :  97.65625\n",
            "Epoch :  15500 Loss :  0.15205708146095276 , Test Set error :  0.0234375 , Test accuracy is :  97.65625\n",
            "Epoch :  15750 Loss :  0.15506739914417267 , Test Set error :  0.015625 , Test accuracy is :  98.4375\n",
            "Epoch :  16000 Loss :  0.12305735051631927 , Test Set error :  0.01953125 , Test accuracy is :  98.046875\n",
            "Epoch :  16250 Loss :  0.12660452723503113 , Test Set error :  0.01953125 , Test accuracy is :  98.046875\n",
            "Epoch :  16500 Loss :  0.11000151932239532 , Test Set error :  0.01171875 , Test accuracy is :  98.828125\n",
            "Epoch :  16750 Loss :  0.10476882010698318 , Test Set error :  0.01171875 , Test accuracy is :  98.828125\n",
            "Epoch :  17000 Loss :  0.1461220681667328 , Test Set error :  0.02734375 , Test accuracy is :  97.265625\n",
            "Epoch :  17250 Loss :  0.15376748144626617 , Test Set error :  0.0234375 , Test accuracy is :  97.65625\n",
            "Epoch :  17500 Loss :  0.12493186444044113 , Test Set error :  0.015625 , Test accuracy is :  98.4375\n",
            "Epoch :  17750 Loss :  0.14578339457511902 , Test Set error :  0.015625 , Test accuracy is :  98.4375\n"
          ],
          "name": "stdout"
        },
        {
          "output_type": "display_data",
          "data": {
            "image/png": "[encoded data removed]",
            "text/plain": [
              "<Figure size 432x288 with 1 Axes>"
            ]
          },
          "metadata": {
            "tags": [],
            "needs_background": "light"
          }
        },
        {
          "output_type": "stream",
          "text": [
            "Total time taken is :  70.38300689\n"
          ],
          "name": "stdout"
        }
      ]
    },
    {
      "cell_type": "code",
      "metadata": {
        "id": "oTSUomh1nLKK",
        "colab_type": "code",
        "outputId": "ac51a9c9-1ef0-4e4a-f25f-8892ad16e555",
        "colab": {
          "base_uri": "https://localhost:8080/",
          "height": 50
        }
      },
      "source": [
        "# Training accuracy\n",
        "\n",
        "postout = firstNN(x_train[:training_size, :].reshape(training_size,784),2000)\n",
        "\n",
        "correct = torch.eq(torch.max(postout, 1)[1], torch.max(y_train[0:training_size, :].reshape(training_size,10), 1)[1]).sum()\n",
        "print(correct)\n",
        "print(\"Training accuracy is : \", 100 * correct.item()/ training_size )"
      ],
      "execution_count": 15,
      "outputs": [
        {
          "output_type": "stream",
          "text": [
            "tensor(255, device='cuda:0')\n",
            "Training accuracy is :  99.609375\n"
          ],
          "name": "stdout"
        }
      ]
    },
    {
      "cell_type": "code",
      "metadata": {
        "id": "DvBHeO22qr8M",
        "colab_type": "code",
        "outputId": "2f8a9228-1d86-4a61-b70a-a900a29acd0f",
        "colab": {
          "base_uri": "https://localhost:8080/",
          "height": 66
        }
      },
      "source": [
        "# Testing accuracy\n",
        "\n",
        "myXtest = x_test[0:10*test_size, :].reshape(10*test_size, 784)\n",
        "myYtest = y_test[0:10*test_size, :].reshape(10*test_size, 10)\n",
        "\n",
        "\n",
        "y_outtest = firstNN(myXtest,2000)\n",
        "lossNNtest = criterion(y_outtest, torch.max(myYtest, 1)[1])\n",
        "\n",
        "correct_test = torch.eq(torch.max(y_outtest, 1)[1], torch.max(myYtest, 1)[1]).sum()\n",
        "print(\"Total number of predictions\", myXtest.shape[0])\n",
        "print(\"Total number of correct predictions : \", correct_test.item(), \"\\nTest accuracy is : \", 100 * correct_test.item()/ (10*test_size) )\n"
      ],
      "execution_count": 16,
      "outputs": [
        {
          "output_type": "stream",
          "text": [
            "Total number of predictions 2560\n",
            "Total number of correct predictions :  2436 \n",
            "Test accuracy is :  95.15625\n"
          ],
          "name": "stdout"
        }
      ]
    },
    {
      "cell_type": "code",
      "metadata": {
        "id": "-xNzj_0wqt98",
        "colab_type": "code",
        "colab": {}
      },
      "source": [
        ""
      ],
      "execution_count": 0,
      "outputs": []
    }
  ]
}