{
  "nbformat": 4,
  "nbformat_minor": 0,
  "metadata": {
    "colab": {
      "name": "NNFL_mainProj.ipynb",
      "provenance": [],
      "collapsed_sections": []
    },
    "kernelspec": {
      "name": "python3",
      "display_name": "Python 3"
    },
    "accelerator": "GPU"
  },
  "cells": [
    {
      "cell_type": "code",
      "metadata": {
        "id": "r3LIc_5skxLa",
        "colab_type": "code",
        "colab": {}
      },
      "source": [
        "# GPU support\n",
        "\n",
        "use_cuda = True\n"
      ],
      "execution_count": 0,
      "outputs": []
    },
    {
      "cell_type": "code",
      "metadata": {
        "id": "kTd94AM1aoen",
        "colab_type": "code",
        "colab": {}
      },
      "source": [
        "# All imports\n",
        "\n",
        "import numpy as np\n",
        "import torch\n",
        "import torch.optim as optim\n",
        "import torch.nn as nn\n",
        "import pandas as pd\n",
        "\n",
        "import matplotlib.pyplot as plt\n",
        "from __future__ import print_function\n",
        "import keras\n",
        "from keras.datasets import mnist\n",
        "from keras import backend as K\n",
        "import torch.nn.functional as F\n",
        "\n",
        "import timeit\n",
        "import random"
      ],
      "execution_count": 0,
      "outputs": []
    },
    {
      "cell_type": "code",
      "metadata": {
        "id": "4OEDFwMVlHJm",
        "colab_type": "code",
        "colab": {}
      },
      "source": [
        "# the data, split between train and test sets\n",
        "(x_train, y_train), (x_test, y_test) = mnist.load_data()\n",
        "\n",
        "\n",
        "# # # To print the image of the written number along with the value in the y column \n",
        "# image_index = 1 # You may select anything up to y_train.shape[0]\n",
        "# print(y_train[image_index]) # The label is 0\n",
        "# plt.imshow(x_train[image_index], cmap='Greys')"
      ],
      "execution_count": 0,
      "outputs": []
    },
    {
      "cell_type": "code",
      "metadata": {
        "id": "uRdfobzzliHW",
        "colab_type": "code",
        "colab": {}
      },
      "source": [
        "# Reshaping the array to 4dim to make it work with Keras\n",
        "x_train = x_train.reshape(x_train.shape[0], 28, 28, 1)\n",
        "x_test = x_test.reshape(x_test.shape[0], 28, 28, 1)\n",
        "\n",
        "input_shape = (28, 28, 1)\n",
        "\n",
        "# Ensuring the datatype is float\n",
        "x_train = x_train.astype('float32')\n",
        "x_test = x_test.astype('float32')\n",
        "\n",
        "# Normalizing RGB codes by dividing by the max RGB value.\n",
        "x_train /= 255\n",
        "x_test /= 255\n",
        "\n",
        "y_train.reshape(y_train.shape[0],1)\n",
        "y_test.reshape(y_test.shape[0],1)\n",
        "\n",
        "# Converting to categorical values, one hot encoding\n",
        "num_classes = 10\n",
        "y_train = keras.utils.to_categorical(y_train, num_classes)\n",
        "y_test = keras.utils.to_categorical(y_test, num_classes)\n",
        "\n",
        "# print('x_train shape:', x_train.shape)\n",
        "# print('Number of images in x_train', x_train.shape[0])\n",
        "# print('Number of images in x_test', x_test.shape[0])"
      ],
      "execution_count": 0,
      "outputs": []
    },
    {
      "cell_type": "code",
      "metadata": {
        "id": "YkGJMzSOmORW",
        "colab_type": "code",
        "colab": {}
      },
      "source": [
        "# Converting to tensor from numpy\n",
        "\n",
        "x_train = torch.from_numpy(x_train)\n",
        "y_train = torch.from_numpy(y_train)\n",
        "\n",
        "x_test = torch.from_numpy(x_test)\n",
        "y_test = torch.from_numpy(y_test)"
      ],
      "execution_count": 0,
      "outputs": []
    },
    {
      "cell_type": "code",
      "metadata": {
        "id": "KyhHFfzfmX8P",
        "colab_type": "code",
        "colab": {}
      },
      "source": [
        "# Creating training set\n",
        "training_size = 3000"
      ],
      "execution_count": 0,
      "outputs": []
    },
    {
      "cell_type": "code",
      "metadata": {
        "id": "NBEJgJ8Cmcpx",
        "colab_type": "code",
        "colab": {}
      },
      "source": [
        "# Creating test set\n",
        "test_size = 300"
      ],
      "execution_count": 0,
      "outputs": []
    },
    {
      "cell_type": "code",
      "metadata": {
        "id": "J_lNr9pSmlsD",
        "colab_type": "code",
        "colab": {}
      },
      "source": [
        "# Function for randomising the chosen rows weights for controlled dropout\n",
        "def controlled_drop(n):\n",
        "  return (random.randint(0,2000 - n))"
      ],
      "execution_count": 0,
      "outputs": []
    },
    {
      "cell_type": "code",
      "metadata": {
        "id": "ugn7BdNkmqjc",
        "colab_type": "code",
        "colab": {}
      },
      "source": [
        "# CREATING NN ARCHITECTURE 784-2000-2000-10\n",
        "\n",
        "class myNN(nn.Module):\n",
        "  def __init__(self):\n",
        "    super(myNN, self).__init__()    \n",
        "    self.weights1 = nn.Parameter(torch.randn(784,2000)*0.1)\n",
        "    self.weights2 = nn.Parameter(torch.randn(2000,2000)*0.1)\n",
        "    self.weights3 = nn.Parameter(torch.randn(2000,10)*0.1)\n",
        "    self.bias1 = nn.Parameter(torch.randn(1,2000))\n",
        "    self.bias2 = nn.Parameter(torch.randn(1,2000))\n",
        "    self.bias3 = nn.Parameter(torch.randn(1,10))\n",
        "\n",
        "    self.bias1.requires_grad_()\n",
        "    self.bias2.requires_grad_()\n",
        "    self.bias3.requires_grad_()\n",
        "\n",
        "    self.weights1.requires_grad_()\n",
        "    self.weights2.requires_grad_()\n",
        "    self.weights3.requires_grad_()\n",
        "\n",
        "  def forward(self, X_train,dp):\n",
        "      h1 = torch.matmul(X_train,self.weights1 ) + self.bias1\n",
        "      a1 = h1.relu()\n",
        "      drop1 = controlled_drop(dp)\n",
        "      # a1 /= (dp/2000)       # adjusting the output reduction due to dropout   ----------- But do I add it here? Or should I start in the matmul below and before return h3? Present use seems to be correct\n",
        "\n",
        "      h2 = (torch.matmul( a1[:,drop1:drop1 + dp] , self.weights2[drop1:drop1+dp,:]  ) *(2000/dp)) + self.bias2\n",
        "      # print(a1[:,drop1:drop1 + dp].shape, a1.shape)\n",
        "      a2 = h2.relu()\n",
        "      drop2 = controlled_drop(dp)\n",
        "      # a2 /= (dp/2000)       # adjusting the output reduction due to dropout\n",
        "\n",
        "      h3 = (torch.matmul( a2[:,drop2:drop2 + dp] , self.weights3[drop2: drop2+dp,:]  ) *(2000/dp)) + self.bias3\n",
        "      return h3\n",
        "   "
      ],
      "execution_count": 0,
      "outputs": []
    },
    {
      "cell_type": "code",
      "metadata": {
        "id": "-7w3Cdo0nZ3y",
        "colab_type": "code",
        "colab": {}
      },
      "source": [
        "def training_drop(myXtrain, myYtrain, firstNN, epochs, opti, criterion): \n",
        "  x_plt_points = []\n",
        "  y_plt_points = []\n",
        "  y_plt_acc = []\n",
        "  for epoch in range(epochs):\n",
        "      \n",
        "    start_index = (epoch*training_size)%60000\n",
        "\n",
        "    # if epoch < 20:\n",
        "    #   print(start_index,start_index + training_size)\n",
        "\n",
        "    myXtrain = x_train[start_index :start_index + training_size, :].reshape(training_size,784)\n",
        "    myYtrain = y_train[start_index :start_index + training_size, :].reshape(training_size,10)\n",
        "\n",
        "    y_out = firstNN(myXtrain,1000)\n",
        "    lossNN = criterion(y_out, torch.max(myYtrain, 1)[1]) # No doubling because the adjustment has been taken care of in the function after dropout itself\n",
        "    opti.zero_grad()\n",
        "    lossNN.backward()\n",
        "    opti.step()\n",
        "\n",
        "    if epoch%100 == 0:\n",
        "     \n",
        "      myXtest = x_test[0:test_size, :].reshape(test_size, 784)\n",
        "      myYtest = y_test[0:test_size, :].reshape(test_size, 10)\n",
        "    \n",
        "      y_outtest = firstNN(myXtest,2000)\n",
        "      lossNNtest = criterion(y_outtest, torch.max(myYtest, 1)[1])\n",
        "\n",
        "      correct_test = torch.eq(torch.max(y_outtest, 1)[1], torch.max(myYtest, 1)[1]).sum()\n",
        "      print(\"Epoch : \", epoch, \"Loss : \", lossNNtest.item(), \", Test Set error : \", 1 - correct_test.item()/ test_size, \", Test accuracy is : \", 100 * correct_test.item()/ test_size )\n",
        "\n",
        "      x_plt_points.append(epoch)\n",
        "      y_plt_points.append(lossNNtest.item())\n",
        "      y_plt_acc.append(1 - correct_test.item()/ test_size)\n",
        "\n",
        "\n",
        "  plt.plot(x_plt_points, y_plt_acc, color='green', linewidth = 1)\n",
        "  plt.ylim(0,0.2) \n",
        "  plt.xlim(0,epochs) \n",
        "    \n",
        "  # naming the axes \n",
        "  plt.xlabel('Number of iterations')  \n",
        "  plt.ylabel('Test error') \n",
        "    \n",
        "  # giving a title to my graph \n",
        "  plt.title('Test Set') \n",
        "    \n",
        "  # function to show the plot \n",
        "  plt.show()\n",
        "   \n",
        "  \n"
      ],
      "execution_count": 0,
      "outputs": []
    },
    {
      "cell_type": "code",
      "metadata": {
        "id": "7aQex0Q4m50p",
        "colab_type": "code",
        "colab": {}
      },
      "source": [
        "# Instantiating my network architecture\n",
        "firstNN = myNN()"
      ],
      "execution_count": 0,
      "outputs": []
    },
    {
      "cell_type": "code",
      "metadata": {
        "id": "M66KFm51nM_8",
        "colab_type": "code",
        "colab": {}
      },
      "source": [
        "# Defining the conditionalities for training \n",
        "\n",
        "criterion = nn.CrossEntropyLoss()\n",
        "opti = optim.Adam(firstNN.parameters(), lr = 0.00005)"
      ],
      "execution_count": 0,
      "outputs": []
    },
    {
      "cell_type": "code",
      "metadata": {
        "id": "mCCGrvREnAE_",
        "colab_type": "code",
        "colab": {}
      },
      "source": [
        "# Enabling GPU support for forward and backprop\n",
        "device = torch.device(\"cuda\")\n",
        "\n",
        "x_train = x_train.to(device)\n",
        "y_train = y_train.to(device)\n",
        "firstNN = firstNN.to(device)\n",
        "x_test = x_test.to(device)\n",
        "y_test = y_test.to(device)"
      ],
      "execution_count": 0,
      "outputs": []
    },
    {
      "cell_type": "code",
      "metadata": {
        "id": "nN-4V0fYnGpX",
        "colab_type": "code",
        "outputId": "ee15aa02-bf1f-47dc-ab95-ae0cf7938fc8",
        "colab": {
          "base_uri": "https://localhost:8080/",
          "height": 1000
        }
      },
      "source": [
        "# Start training the model\n",
        "epochs= 15000\n",
        "start = timeit.default_timer()\n",
        "\n",
        "training_drop(x_train, y_train, firstNN, epochs, opti, criterion)\n",
        "\n",
        "end = timeit.default_timer()\n",
        "print(\"Total time taken is : \", end - start)"
      ],
      "execution_count": 68,
      "outputs": [
        {
          "output_type": "stream",
          "text": [
            "Epoch :  0 Loss :  21.88127326965332 , Test Set error :  0.88 , Test accuracy is :  12.0\n",
            "Epoch :  100 Loss :  4.42711877822876 , Test Set error :  0.5866666666666667 , Test accuracy is :  41.333333333333336\n",
            "Epoch :  200 Loss :  3.620507001876831 , Test Set error :  0.41333333333333333 , Test accuracy is :  58.666666666666664\n",
            "Epoch :  300 Loss :  2.0144128799438477 , Test Set error :  0.2866666666666666 , Test accuracy is :  71.33333333333333\n",
            "Epoch :  400 Loss :  1.750521183013916 , Test Set error :  0.2366666666666667 , Test accuracy is :  76.33333333333333\n",
            "Epoch :  500 Loss :  1.766195297241211 , Test Set error :  0.2533333333333333 , Test accuracy is :  74.66666666666667\n",
            "Epoch :  600 Loss :  1.5469356775283813 , Test Set error :  0.22333333333333338 , Test accuracy is :  77.66666666666667\n",
            "Epoch :  700 Loss :  1.3713854551315308 , Test Set error :  0.18999999999999995 , Test accuracy is :  81.0\n",
            "Epoch :  800 Loss :  1.2286829948425293 , Test Set error :  0.16666666666666663 , Test accuracy is :  83.33333333333333\n",
            "Epoch :  900 Loss :  1.1084907054901123 , Test Set error :  0.16666666666666663 , Test accuracy is :  83.33333333333333\n",
            "Epoch :  1000 Loss :  1.146609902381897 , Test Set error :  0.16666666666666663 , Test accuracy is :  83.33333333333333\n",
            "Epoch :  1100 Loss :  0.8130549192428589 , Test Set error :  0.1333333333333333 , Test accuracy is :  86.66666666666667\n",
            "Epoch :  1200 Loss :  0.7197510004043579 , Test Set error :  0.13666666666666671 , Test accuracy is :  86.33333333333333\n",
            "Epoch :  1300 Loss :  0.7233801484107971 , Test Set error :  0.13 , Test accuracy is :  87.0\n",
            "Epoch :  1400 Loss :  0.7799937725067139 , Test Set error :  0.1333333333333333 , Test accuracy is :  86.66666666666667\n",
            "Epoch :  1500 Loss :  0.6600492596626282 , Test Set error :  0.1166666666666667 , Test accuracy is :  88.33333333333333\n",
            "Epoch :  1600 Loss :  0.6144289374351501 , Test Set error :  0.10333333333333339 , Test accuracy is :  89.66666666666667\n",
            "Epoch :  1700 Loss :  0.6098009943962097 , Test Set error :  0.10333333333333339 , Test accuracy is :  89.66666666666667\n",
            "Epoch :  1800 Loss :  0.553226888179779 , Test Set error :  0.10333333333333339 , Test accuracy is :  89.66666666666667\n",
            "Epoch :  1900 Loss :  0.47905465960502625 , Test Set error :  0.09999999999999998 , Test accuracy is :  90.0\n",
            "Epoch :  2000 Loss :  0.6474050283432007 , Test Set error :  0.1233333333333333 , Test accuracy is :  87.66666666666667\n",
            "Epoch :  2100 Loss :  0.4944452941417694 , Test Set error :  0.09666666666666668 , Test accuracy is :  90.33333333333333\n",
            "Epoch :  2200 Loss :  0.5038917660713196 , Test Set error :  0.10333333333333339 , Test accuracy is :  89.66666666666667\n",
            "Epoch :  2300 Loss :  0.4467983543872833 , Test Set error :  0.08333333333333337 , Test accuracy is :  91.66666666666667\n",
            "Epoch :  2400 Loss :  0.4069235622882843 , Test Set error :  0.06999999999999995 , Test accuracy is :  93.0\n",
            "Epoch :  2500 Loss :  0.33987486362457275 , Test Set error :  0.06000000000000005 , Test accuracy is :  94.0\n",
            "Epoch :  2600 Loss :  0.35986268520355225 , Test Set error :  0.06666666666666665 , Test accuracy is :  93.33333333333333\n",
            "Epoch :  2700 Loss :  0.3408302962779999 , Test Set error :  0.06333333333333335 , Test accuracy is :  93.66666666666667\n",
            "Epoch :  2800 Loss :  0.3569912612438202 , Test Set error :  0.06333333333333335 , Test accuracy is :  93.66666666666667\n",
            "Epoch :  2900 Loss :  0.3274953067302704 , Test Set error :  0.06000000000000005 , Test accuracy is :  94.0\n",
            "Epoch :  3000 Loss :  0.25642576813697815 , Test Set error :  0.053333333333333344 , Test accuracy is :  94.66666666666667\n",
            "Epoch :  3100 Loss :  0.27948787808418274 , Test Set error :  0.05666666666666664 , Test accuracy is :  94.33333333333333\n",
            "Epoch :  3200 Loss :  0.3068525493144989 , Test Set error :  0.06000000000000005 , Test accuracy is :  94.0\n",
            "Epoch :  3300 Loss :  0.2833985388278961 , Test Set error :  0.05666666666666664 , Test accuracy is :  94.33333333333333\n",
            "Epoch :  3400 Loss :  0.25890684127807617 , Test Set error :  0.06000000000000005 , Test accuracy is :  94.0\n",
            "Epoch :  3500 Loss :  0.2927274703979492 , Test Set error :  0.06000000000000005 , Test accuracy is :  94.0\n",
            "Epoch :  3600 Loss :  0.2298400104045868 , Test Set error :  0.053333333333333344 , Test accuracy is :  94.66666666666667\n",
            "Epoch :  3700 Loss :  0.24455606937408447 , Test Set error :  0.050000000000000044 , Test accuracy is :  95.0\n",
            "Epoch :  3800 Loss :  0.2332889884710312 , Test Set error :  0.053333333333333344 , Test accuracy is :  94.66666666666667\n",
            "Epoch :  3900 Loss :  0.18918398022651672 , Test Set error :  0.043333333333333335 , Test accuracy is :  95.66666666666667\n",
            "Epoch :  4000 Loss :  0.20366474986076355 , Test Set error :  0.050000000000000044 , Test accuracy is :  95.0\n",
            "Epoch :  4100 Loss :  0.18100957572460175 , Test Set error :  0.046666666666666634 , Test accuracy is :  95.33333333333333\n",
            "Epoch :  4200 Loss :  0.15717008709907532 , Test Set error :  0.040000000000000036 , Test accuracy is :  96.0\n",
            "Epoch :  4300 Loss :  0.194034144282341 , Test Set error :  0.05666666666666664 , Test accuracy is :  94.33333333333333\n",
            "Epoch :  4400 Loss :  0.21383921802043915 , Test Set error :  0.06333333333333335 , Test accuracy is :  93.66666666666667\n",
            "Epoch :  4500 Loss :  0.17831866443157196 , Test Set error :  0.050000000000000044 , Test accuracy is :  95.0\n",
            "Epoch :  4600 Loss :  0.18725433945655823 , Test Set error :  0.05666666666666664 , Test accuracy is :  94.33333333333333\n",
            "Epoch :  4700 Loss :  0.17541812360286713 , Test Set error :  0.053333333333333344 , Test accuracy is :  94.66666666666667\n",
            "Epoch :  4800 Loss :  0.1537202149629593 , Test Set error :  0.043333333333333335 , Test accuracy is :  95.66666666666667\n",
            "Epoch :  4900 Loss :  0.16245299577713013 , Test Set error :  0.050000000000000044 , Test accuracy is :  95.0\n",
            "Epoch :  5000 Loss :  0.14122794568538666 , Test Set error :  0.040000000000000036 , Test accuracy is :  96.0\n",
            "Epoch :  5100 Loss :  0.13301296532154083 , Test Set error :  0.040000000000000036 , Test accuracy is :  96.0\n",
            "Epoch :  5200 Loss :  0.13865643739700317 , Test Set error :  0.040000000000000036 , Test accuracy is :  96.0\n",
            "Epoch :  5300 Loss :  0.15098021924495697 , Test Set error :  0.043333333333333335 , Test accuracy is :  95.66666666666667\n",
            "Epoch :  5400 Loss :  0.12673319876194 , Test Set error :  0.036666666666666625 , Test accuracy is :  96.33333333333333\n",
            "Epoch :  5500 Loss :  0.1188054159283638 , Test Set error :  0.026666666666666616 , Test accuracy is :  97.33333333333333\n",
            "Epoch :  5600 Loss :  0.12419745326042175 , Test Set error :  0.026666666666666616 , Test accuracy is :  97.33333333333333\n",
            "Epoch :  5700 Loss :  0.11946384608745575 , Test Set error :  0.033333333333333326 , Test accuracy is :  96.66666666666667\n",
            "Epoch :  5800 Loss :  0.12937629222869873 , Test Set error :  0.040000000000000036 , Test accuracy is :  96.0\n",
            "Epoch :  5900 Loss :  0.11930966377258301 , Test Set error :  0.030000000000000027 , Test accuracy is :  97.0\n",
            "Epoch :  6000 Loss :  0.11641377955675125 , Test Set error :  0.030000000000000027 , Test accuracy is :  97.0\n",
            "Epoch :  6100 Loss :  0.13120386004447937 , Test Set error :  0.036666666666666625 , Test accuracy is :  96.33333333333333\n",
            "Epoch :  6200 Loss :  0.10460609197616577 , Test Set error :  0.020000000000000018 , Test accuracy is :  98.0\n",
            "Epoch :  6300 Loss :  0.10069656372070312 , Test Set error :  0.020000000000000018 , Test accuracy is :  98.0\n",
            "Epoch :  6400 Loss :  0.09468553960323334 , Test Set error :  0.023333333333333317 , Test accuracy is :  97.66666666666667\n",
            "Epoch :  6500 Loss :  0.10136023163795471 , Test Set error :  0.026666666666666616 , Test accuracy is :  97.33333333333333\n",
            "Epoch :  6600 Loss :  0.10002412647008896 , Test Set error :  0.023333333333333317 , Test accuracy is :  97.66666666666667\n",
            "Epoch :  6700 Loss :  0.0992240160703659 , Test Set error :  0.01666666666666672 , Test accuracy is :  98.33333333333333\n",
            "Epoch :  6800 Loss :  0.0939781442284584 , Test Set error :  0.030000000000000027 , Test accuracy is :  97.0\n",
            "Epoch :  6900 Loss :  0.09311879426240921 , Test Set error :  0.026666666666666616 , Test accuracy is :  97.33333333333333\n",
            "Epoch :  7000 Loss :  0.09962281584739685 , Test Set error :  0.020000000000000018 , Test accuracy is :  98.0\n",
            "Epoch :  7100 Loss :  0.09047959744930267 , Test Set error :  0.020000000000000018 , Test accuracy is :  98.0\n",
            "Epoch :  7200 Loss :  0.09942448139190674 , Test Set error :  0.020000000000000018 , Test accuracy is :  98.0\n",
            "Epoch :  7300 Loss :  0.09983085840940475 , Test Set error :  0.023333333333333317 , Test accuracy is :  97.66666666666667\n",
            "Epoch :  7400 Loss :  0.1005982831120491 , Test Set error :  0.020000000000000018 , Test accuracy is :  98.0\n",
            "Epoch :  7500 Loss :  0.09090547263622284 , Test Set error :  0.01666666666666672 , Test accuracy is :  98.33333333333333\n",
            "Epoch :  7600 Loss :  0.09704858064651489 , Test Set error :  0.020000000000000018 , Test accuracy is :  98.0\n",
            "Epoch :  7700 Loss :  0.0925634503364563 , Test Set error :  0.01666666666666672 , Test accuracy is :  98.33333333333333\n",
            "Epoch :  7800 Loss :  0.11588715761899948 , Test Set error :  0.023333333333333317 , Test accuracy is :  97.66666666666667\n",
            "Epoch :  7900 Loss :  0.10328516364097595 , Test Set error :  0.020000000000000018 , Test accuracy is :  98.0\n",
            "Epoch :  8000 Loss :  0.1091548502445221 , Test Set error :  0.023333333333333317 , Test accuracy is :  97.66666666666667\n",
            "Epoch :  8100 Loss :  0.11821530759334564 , Test Set error :  0.026666666666666616 , Test accuracy is :  97.33333333333333\n",
            "Epoch :  8200 Loss :  0.09531248360872269 , Test Set error :  0.023333333333333317 , Test accuracy is :  97.66666666666667\n",
            "Epoch :  8300 Loss :  0.08845445513725281 , Test Set error :  0.01666666666666672 , Test accuracy is :  98.33333333333333\n",
            "Epoch :  8400 Loss :  0.08878377825021744 , Test Set error :  0.020000000000000018 , Test accuracy is :  98.0\n",
            "Epoch :  8500 Loss :  0.10622476041316986 , Test Set error :  0.023333333333333317 , Test accuracy is :  97.66666666666667\n",
            "Epoch :  8600 Loss :  0.09953102469444275 , Test Set error :  0.01666666666666672 , Test accuracy is :  98.33333333333333\n",
            "Epoch :  8700 Loss :  0.09112752228975296 , Test Set error :  0.01666666666666672 , Test accuracy is :  98.33333333333333\n",
            "Epoch :  8800 Loss :  0.08534802496433258 , Test Set error :  0.01666666666666672 , Test accuracy is :  98.33333333333333\n",
            "Epoch :  8900 Loss :  0.08982622623443604 , Test Set error :  0.013333333333333308 , Test accuracy is :  98.66666666666667\n",
            "Epoch :  9000 Loss :  0.07940041273832321 , Test Set error :  0.020000000000000018 , Test accuracy is :  98.0\n",
            "Epoch :  9100 Loss :  0.07999803870916367 , Test Set error :  0.020000000000000018 , Test accuracy is :  98.0\n",
            "Epoch :  9200 Loss :  0.08936652541160583 , Test Set error :  0.013333333333333308 , Test accuracy is :  98.66666666666667\n",
            "Epoch :  9300 Loss :  0.08333635330200195 , Test Set error :  0.01666666666666672 , Test accuracy is :  98.33333333333333\n",
            "Epoch :  9400 Loss :  0.0847482830286026 , Test Set error :  0.01666666666666672 , Test accuracy is :  98.33333333333333\n",
            "Epoch :  9500 Loss :  0.08586732298135757 , Test Set error :  0.020000000000000018 , Test accuracy is :  98.0\n",
            "Epoch :  9600 Loss :  0.0747370794415474 , Test Set error :  0.013333333333333308 , Test accuracy is :  98.66666666666667\n",
            "Epoch :  9700 Loss :  0.0858110785484314 , Test Set error :  0.01666666666666672 , Test accuracy is :  98.33333333333333\n",
            "Epoch :  9800 Loss :  0.0908849760890007 , Test Set error :  0.01666666666666672 , Test accuracy is :  98.33333333333333\n",
            "Epoch :  9900 Loss :  0.07784458249807358 , Test Set error :  0.013333333333333308 , Test accuracy is :  98.66666666666667\n",
            "Epoch :  10000 Loss :  0.0878116711974144 , Test Set error :  0.010000000000000009 , Test accuracy is :  99.0\n",
            "Epoch :  10100 Loss :  0.07784068584442139 , Test Set error :  0.010000000000000009 , Test accuracy is :  99.0\n",
            "Epoch :  10200 Loss :  0.08610370010137558 , Test Set error :  0.010000000000000009 , Test accuracy is :  99.0\n",
            "Epoch :  10300 Loss :  0.08494666963815689 , Test Set error :  0.013333333333333308 , Test accuracy is :  98.66666666666667\n",
            "Epoch :  10400 Loss :  0.08544976264238358 , Test Set error :  0.01666666666666672 , Test accuracy is :  98.33333333333333\n",
            "Epoch :  10500 Loss :  0.09105286747217178 , Test Set error :  0.013333333333333308 , Test accuracy is :  98.66666666666667\n",
            "Epoch :  10600 Loss :  0.0787593424320221 , Test Set error :  0.013333333333333308 , Test accuracy is :  98.66666666666667\n",
            "Epoch :  10700 Loss :  0.08375193178653717 , Test Set error :  0.01666666666666672 , Test accuracy is :  98.33333333333333\n",
            "Epoch :  10800 Loss :  0.08018699288368225 , Test Set error :  0.01666666666666672 , Test accuracy is :  98.33333333333333\n",
            "Epoch :  10900 Loss :  0.07882051914930344 , Test Set error :  0.013333333333333308 , Test accuracy is :  98.66666666666667\n",
            "Epoch :  11000 Loss :  0.0872870534658432 , Test Set error :  0.01666666666666672 , Test accuracy is :  98.33333333333333\n",
            "Epoch :  11100 Loss :  0.07999406009912491 , Test Set error :  0.013333333333333308 , Test accuracy is :  98.66666666666667\n",
            "Epoch :  11200 Loss :  0.07381779700517654 , Test Set error :  0.01666666666666672 , Test accuracy is :  98.33333333333333\n",
            "Epoch :  11300 Loss :  0.0812176913022995 , Test Set error :  0.01666666666666672 , Test accuracy is :  98.33333333333333\n",
            "Epoch :  11400 Loss :  0.08633376657962799 , Test Set error :  0.013333333333333308 , Test accuracy is :  98.66666666666667\n",
            "Epoch :  11500 Loss :  0.08640741556882858 , Test Set error :  0.013333333333333308 , Test accuracy is :  98.66666666666667\n",
            "Epoch :  11600 Loss :  0.08553509414196014 , Test Set error :  0.013333333333333308 , Test accuracy is :  98.66666666666667\n",
            "Epoch :  11700 Loss :  0.08990070223808289 , Test Set error :  0.013333333333333308 , Test accuracy is :  98.66666666666667\n",
            "Epoch :  11800 Loss :  0.08785177767276764 , Test Set error :  0.01666666666666672 , Test accuracy is :  98.33333333333333\n",
            "Epoch :  11900 Loss :  0.08851099759340286 , Test Set error :  0.013333333333333308 , Test accuracy is :  98.66666666666667\n",
            "Epoch :  12000 Loss :  0.09231629967689514 , Test Set error :  0.013333333333333308 , Test accuracy is :  98.66666666666667\n",
            "Epoch :  12100 Loss :  0.08147019892930984 , Test Set error :  0.013333333333333308 , Test accuracy is :  98.66666666666667\n",
            "Epoch :  12200 Loss :  0.09836073219776154 , Test Set error :  0.013333333333333308 , Test accuracy is :  98.66666666666667\n",
            "Epoch :  12300 Loss :  0.08123619854450226 , Test Set error :  0.013333333333333308 , Test accuracy is :  98.66666666666667\n",
            "Epoch :  12400 Loss :  0.08951856195926666 , Test Set error :  0.013333333333333308 , Test accuracy is :  98.66666666666667\n",
            "Epoch :  12500 Loss :  0.10025470703840256 , Test Set error :  0.023333333333333317 , Test accuracy is :  97.66666666666667\n",
            "Epoch :  12600 Loss :  0.07915817201137543 , Test Set error :  0.013333333333333308 , Test accuracy is :  98.66666666666667\n",
            "Epoch :  12700 Loss :  0.08992820978164673 , Test Set error :  0.010000000000000009 , Test accuracy is :  99.0\n",
            "Epoch :  12800 Loss :  0.08564357459545135 , Test Set error :  0.01666666666666672 , Test accuracy is :  98.33333333333333\n",
            "Epoch :  12900 Loss :  0.07912711054086685 , Test Set error :  0.013333333333333308 , Test accuracy is :  98.66666666666667\n",
            "Epoch :  13000 Loss :  0.08427600562572479 , Test Set error :  0.013333333333333308 , Test accuracy is :  98.66666666666667\n",
            "Epoch :  13100 Loss :  0.08580081164836884 , Test Set error :  0.013333333333333308 , Test accuracy is :  98.66666666666667\n",
            "Epoch :  13200 Loss :  0.07795895636081696 , Test Set error :  0.013333333333333308 , Test accuracy is :  98.66666666666667\n",
            "Epoch :  13300 Loss :  0.08895359188318253 , Test Set error :  0.01666666666666672 , Test accuracy is :  98.33333333333333\n",
            "Epoch :  13400 Loss :  0.09159772098064423 , Test Set error :  0.013333333333333308 , Test accuracy is :  98.66666666666667\n",
            "Epoch :  13500 Loss :  0.09192576259374619 , Test Set error :  0.01666666666666672 , Test accuracy is :  98.33333333333333\n",
            "Epoch :  13600 Loss :  0.10266295075416565 , Test Set error :  0.020000000000000018 , Test accuracy is :  98.0\n",
            "Epoch :  13700 Loss :  0.09434350579977036 , Test Set error :  0.013333333333333308 , Test accuracy is :  98.66666666666667\n",
            "Epoch :  13800 Loss :  0.09409347176551819 , Test Set error :  0.01666666666666672 , Test accuracy is :  98.33333333333333\n",
            "Epoch :  13900 Loss :  0.10196397453546524 , Test Set error :  0.013333333333333308 , Test accuracy is :  98.66666666666667\n",
            "Epoch :  14000 Loss :  0.07910110801458359 , Test Set error :  0.013333333333333308 , Test accuracy is :  98.66666666666667\n",
            "Epoch :  14100 Loss :  0.0932203009724617 , Test Set error :  0.01666666666666672 , Test accuracy is :  98.33333333333333\n",
            "Epoch :  14200 Loss :  0.08077583461999893 , Test Set error :  0.013333333333333308 , Test accuracy is :  98.66666666666667\n",
            "Epoch :  14300 Loss :  0.09289359301328659 , Test Set error :  0.020000000000000018 , Test accuracy is :  98.0\n",
            "Epoch :  14400 Loss :  0.09287728369235992 , Test Set error :  0.013333333333333308 , Test accuracy is :  98.66666666666667\n",
            "Epoch :  14500 Loss :  0.08441368490457535 , Test Set error :  0.010000000000000009 , Test accuracy is :  99.0\n",
            "Epoch :  14600 Loss :  0.08723258227109909 , Test Set error :  0.013333333333333308 , Test accuracy is :  98.66666666666667\n",
            "Epoch :  14700 Loss :  0.08807346224784851 , Test Set error :  0.013333333333333308 , Test accuracy is :  98.66666666666667\n",
            "Epoch :  14800 Loss :  0.08469532430171967 , Test Set error :  0.010000000000000009 , Test accuracy is :  99.0\n",
            "Epoch :  14900 Loss :  0.08583448827266693 , Test Set error :  0.013333333333333308 , Test accuracy is :  98.66666666666667\n"
          ],
          "name": "stdout"
        },
        {
          "output_type": "display_data",
          "data": {
            "image/png": "[encoded data removed]",
            "text/plain": [
              "<Figure size 432x288 with 1 Axes>"
            ]
          },
          "metadata": {
            "tags": [],
            "needs_background": "light"
          }
        },
        {
          "output_type": "stream",
          "text": [
            "Total time taken is :  269.72924919199977\n"
          ],
          "name": "stdout"
        }
      ]
    },
    {
      "cell_type": "code",
      "metadata": {
        "id": "oTSUomh1nLKK",
        "colab_type": "code",
        "outputId": "a97685e0-471c-48df-80ff-8a0100a4604e",
        "colab": {
          "base_uri": "https://localhost:8080/",
          "height": 50
        }
      },
      "source": [
        "# Training accuracy\n",
        "\n",
        "postout = firstNN(x_train[:training_size, :].reshape(training_size,784),2000)\n",
        "\n",
        "correct = torch.eq(torch.max(postout, 1)[1], torch.max(y_train[0:training_size, :].reshape(training_size,10), 1)[1]).sum()\n",
        "print(correct)\n",
        "print(\"Training accuracy is : \", 100 * correct.item()/ training_size )"
      ],
      "execution_count": 69,
      "outputs": [
        {
          "output_type": "stream",
          "text": [
            "tensor(2992, device='cuda:0')\n",
            "Training accuracy is :  99.73333333333333\n"
          ],
          "name": "stdout"
        }
      ]
    },
    {
      "cell_type": "code",
      "metadata": {
        "id": "DvBHeO22qr8M",
        "colab_type": "code",
        "outputId": "d2d6f450-8260-497a-810e-54e78c2ae4f0",
        "colab": {
          "base_uri": "https://localhost:8080/",
          "height": 33
        }
      },
      "source": [
        "# # Testing accuracy\n",
        "\n",
        "myXtest = x_test[0:30*test_size, :].reshape(30*test_size, 784)\n",
        "myYtest = y_test[0:30*test_size, :].reshape(30*test_size, 10)\n",
        "\n",
        "\n",
        "y_outtest = firstNN(myXtest,2000)\n",
        "lossNNtest = criterion(y_outtest, torch.max(myYtest, 1)[1])\n",
        "\n",
        "correct_test = torch.eq(torch.max(y_outtest, 1)[1], torch.max(myYtest, 1)[1]).sum()\n",
        "print(\"Number of correct predictions : \", correct_test.item(), \", Test accuracy is : \", 100 * correct_test.item()/ (30*test_size) )\n"
      ],
      "execution_count": 70,
      "outputs": [
        {
          "output_type": "stream",
          "text": [
            "Number of correct predictions :  8820 , Test accuracy is :  98.0\n"
          ],
          "name": "stdout"
        }
      ]
    },
    {
      "cell_type": "code",
      "metadata": {
        "id": "-xNzj_0wqt98",
        "colab_type": "code",
        "colab": {}
      },
      "source": [
        ""
      ],
      "execution_count": 0,
      "outputs": []
    }
  ]
}