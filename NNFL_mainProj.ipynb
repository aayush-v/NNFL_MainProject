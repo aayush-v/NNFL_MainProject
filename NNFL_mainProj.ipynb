{
  "nbformat": 4,
  "nbformat_minor": 0,
  "metadata": {
    "colab": {
      "name": "NNFL_mainProj.ipynb",
      "provenance": [],
      "collapsed_sections": []
    },
    "kernelspec": {
      "name": "python3",
      "display_name": "Python 3"
    },
    "accelerator": "GPU"
  },
  "cells": [
    {
      "cell_type": "code",
      "metadata": {
        "id": "r3LIc_5skxLa",
        "colab_type": "code",
        "colab": {}
      },
      "source": [
        "# GPU support\n",
        "\n",
        "use_cuda = True\n"
      ],
      "execution_count": 0,
      "outputs": []
    },
    {
      "cell_type": "code",
      "metadata": {
        "id": "kTd94AM1aoen",
        "colab_type": "code",
        "outputId": "e8cd94ff-cf53-4b5d-8317-bf94aa211088",
        "colab": {
          "base_uri": "https://localhost:8080/",
          "height": 33
        }
      },
      "source": [
        "# All imports\n",
        "\n",
        "import numpy as np\n",
        "import torch\n",
        "import torch.optim as optim\n",
        "import torch.nn as nn\n",
        "import pandas as pd\n",
        "\n",
        "import matplotlib.pyplot as plt\n",
        "from __future__ import print_function\n",
        "import keras\n",
        "from keras.datasets import mnist\n",
        "from keras import backend as K\n",
        "import torch.nn.functional as F\n",
        "\n",
        "import timeit\n",
        "import random"
      ],
      "execution_count": 2,
      "outputs": [
        {
          "output_type": "stream",
          "text": [
            "Using TensorFlow backend.\n"
          ],
          "name": "stderr"
        }
      ]
    },
    {
      "cell_type": "code",
      "metadata": {
        "id": "4OEDFwMVlHJm",
        "colab_type": "code",
        "colab": {}
      },
      "source": [
        "# the data, split between train and test sets\n",
        "(x_train, y_train), (x_test, y_test) = mnist.load_data()\n",
        "\n",
        "\n",
        "# # # To print the image of the written number along with the value in the y column \n",
        "# image_index = 1 # You may select anything up to y_train.shape[0]\n",
        "# print(y_train[image_index]) # The label is 0\n",
        "# plt.imshow(x_train[image_index], cmap='Greys')"
      ],
      "execution_count": 0,
      "outputs": []
    },
    {
      "cell_type": "code",
      "metadata": {
        "id": "uRdfobzzliHW",
        "colab_type": "code",
        "colab": {}
      },
      "source": [
        "\n",
        "# Reshaping the array to 4dim to make it work with Keras\n",
        "x_train = x_train.reshape(x_train.shape[0], 28, 28, 1)\n",
        "x_test = x_test.reshape(x_test.shape[0], 28, 28, 1)\n",
        "\n",
        "input_shape = (28, 28, 1)\n",
        "\n",
        "# Ensuring the datatype is float\n",
        "x_train = x_train.astype('float32')\n",
        "x_test = x_test.astype('float32')\n",
        "\n",
        "# Normalizing RGB codes by dividing by the max RGB value.\n",
        "x_train /= 255\n",
        "x_test /= 255\n",
        "\n",
        "y_train.reshape(y_train.shape[0],1)\n",
        "y_test.reshape(y_test.shape[0],1)\n",
        "\n",
        "# Converting to categorical values, one hot encoding\n",
        "num_classes = 10\n",
        "y_train = keras.utils.to_categorical(y_train, num_classes)\n",
        "y_test = keras.utils.to_categorical(y_test, num_classes)\n",
        "\n",
        "# print('x_train shape:', x_train.shape)\n",
        "# print('Number of images in x_train', x_train.shape[0])\n",
        "# print('Number of images in x_test', x_test.shape[0])\n",
        "\n"
      ],
      "execution_count": 0,
      "outputs": []
    },
    {
      "cell_type": "code",
      "metadata": {
        "id": "YkGJMzSOmORW",
        "colab_type": "code",
        "colab": {}
      },
      "source": [
        "# Converting to tensor from numpy\n",
        "\n",
        "x_train = torch.from_numpy(x_train)\n",
        "y_train = torch.from_numpy(y_train)\n",
        "\n",
        "x_test = torch.from_numpy(x_test)\n",
        "y_test = torch.from_numpy(y_test)"
      ],
      "execution_count": 0,
      "outputs": []
    },
    {
      "cell_type": "code",
      "metadata": {
        "id": "KyhHFfzfmX8P",
        "colab_type": "code",
        "colab": {}
      },
      "source": [
        "# Creating training set\n",
        "\n",
        "training_size = 4000\n",
        "myXtrain = x_train[0:training_size, :].reshape(training_size,784)\n",
        "myYtrain = y_train[0:training_size, :].reshape(training_size,10)"
      ],
      "execution_count": 0,
      "outputs": []
    },
    {
      "cell_type": "code",
      "metadata": {
        "id": "NBEJgJ8Cmcpx",
        "colab_type": "code",
        "colab": {}
      },
      "source": [
        "# Creating test set\n",
        "\n",
        "test_size = 500\n",
        "myXtest = x_test[0:test_size, :].reshape(test_size,784)\n",
        "myYtest = y_test[0:test_size, :].reshape(test_size,10)"
      ],
      "execution_count": 0,
      "outputs": []
    },
    {
      "cell_type": "code",
      "metadata": {
        "id": "J_lNr9pSmlsD",
        "colab_type": "code",
        "colab": {}
      },
      "source": [
        "# Function for randomising the chosen rows weights for controlled dropout\n",
        "\n",
        "def controlled_drop(n):\n",
        "  return (random.randint(0,2000 - n))"
      ],
      "execution_count": 0,
      "outputs": []
    },
    {
      "cell_type": "code",
      "metadata": {
        "id": "ugn7BdNkmqjc",
        "colab_type": "code",
        "colab": {}
      },
      "source": [
        "# CREATING NN ARCHITECTURE 784-2000-2000-10\n",
        "\n",
        "class myNN(nn.Module):\n",
        "  def __init__(self):\n",
        "    super(myNN, self).__init__()    \n",
        "    self.weights1 = nn.Parameter(torch.randn(784,2000)*0.1)\n",
        "    self.weights2 = nn.Parameter(torch.randn(2000,2000)*0.1)\n",
        "    self.weights3 = nn.Parameter(torch.randn(2000,10)*0.1)\n",
        "    self.bias1 = nn.Parameter(torch.randn(1,2000))\n",
        "    self.bias2 = nn.Parameter(torch.randn(1,2000))\n",
        "    self.bias3 = nn.Parameter(torch.randn(1,10))\n",
        "\n",
        "    self.bias1.requires_grad_()\n",
        "    self.bias2.requires_grad_()\n",
        "    self.bias3.requires_grad_()\n",
        "\n",
        "    self.weights1.requires_grad_()\n",
        "    self.weights2.requires_grad_()\n",
        "    self.weights3.requires_grad_()\n",
        "\n",
        "\n",
        "  def forward(self, X_train,dp):\n",
        "      h1 = torch.matmul(X_train,self.weights1 ) + self.bias1\n",
        "      a1 = h1.relu()\n",
        "      drop1 = controlled_drop(dp)\n",
        "      a1 /= (dp/2000)\n",
        "\n",
        "      h2 = torch.matmul( a1[:,drop1:drop1 + dp] , self.weights2[drop1:drop1+dp,:]  ) + self.bias2\n",
        "      a2 = h2.relu()\n",
        "      drop2 = controlled_drop(dp)\n",
        "      a2 /= (dp/2000)\n",
        "\n",
        "      h3 = torch.matmul( a2[:,drop2:drop2 + dp] , self.weights3[drop2: drop2+dp,:]  ) + self.bias3\n",
        "      return h3\n",
        "   "
      ],
      "execution_count": 0,
      "outputs": []
    },
    {
      "cell_type": "code",
      "metadata": {
        "id": "-7w3Cdo0nZ3y",
        "colab_type": "code",
        "colab": {}
      },
      "source": [
        "def training_drop(myXtrain, myYtrain, firstNN, epochs, opti, criterion): \n",
        "\n",
        "  for epoch in range(epochs):\n",
        "    y_out = firstNN(myXtrain,1000)\n",
        "    lossNN = criterion(2*y_out, torch.max(myYtrain, 1)[1])  # Multiplying by 2 because we've kept dropout at 50%, so only half the weights are active\n",
        "    opti.zero_grad()\n",
        "    lossNN.backward()\n",
        "    opti.step()\n",
        "\n",
        "    if epoch%100 == 0:\n",
        "      print(lossNN, epoch)\n"
      ],
      "execution_count": 0,
      "outputs": []
    },
    {
      "cell_type": "code",
      "metadata": {
        "id": "7aQex0Q4m50p",
        "colab_type": "code",
        "colab": {}
      },
      "source": [
        "# Instantiating my network architecture\n",
        "firstNN = myNN()"
      ],
      "execution_count": 0,
      "outputs": []
    },
    {
      "cell_type": "code",
      "metadata": {
        "id": "M66KFm51nM_8",
        "colab_type": "code",
        "colab": {}
      },
      "source": [
        "# Defining the conditionalities for training \n",
        "\n",
        "criterion = nn.CrossEntropyLoss()\n",
        "opti = optim.Adam(firstNN.parameters(), lr = 0.00005)"
      ],
      "execution_count": 0,
      "outputs": []
    },
    {
      "cell_type": "code",
      "metadata": {
        "id": "mCCGrvREnAE_",
        "colab_type": "code",
        "colab": {}
      },
      "source": [
        "# Enabling GPU support for forward and backprop\n",
        "device = torch.device(\"cuda\")\n",
        "\n",
        "myXtrain = myXtrain.to(device)\n",
        "myYtrain = myYtrain.to(device)\n",
        "firstNN = firstNN.to(device)\n",
        "myXtest = myXtest.to(device)\n",
        "myYtest = myYtest.to(device)"
      ],
      "execution_count": 0,
      "outputs": []
    },
    {
      "cell_type": "code",
      "metadata": {
        "id": "nN-4V0fYnGpX",
        "colab_type": "code",
        "outputId": "3ba7fe80-dac7-496f-fd31-288f702d5328",
        "colab": {
          "base_uri": "https://localhost:8080/",
          "height": 1000
        }
      },
      "source": [
        "# Start training the model\n",
        "\n",
        "epochs= 8000\n",
        "start = timeit.default_timer()\n",
        "\n",
        "training_drop(myXtrain, myYtrain, firstNN, epochs, opti, criterion)\n",
        "\n",
        "end = timeit.default_timer()\n",
        "print(\"Total time taken is : \", end - start)"
      ],
      "execution_count": 14,
      "outputs": [
        {
          "output_type": "stream",
          "text": [
            "tensor(67.8512, device='cuda:0', grad_fn=<NllLossBackward>) 0\n",
            "tensor(20.7574, device='cuda:0', grad_fn=<NllLossBackward>) 100\n",
            "tensor(9.4452, device='cuda:0', grad_fn=<NllLossBackward>) 200\n",
            "tensor(6.0802, device='cuda:0', grad_fn=<NllLossBackward>) 300\n",
            "tensor(6.2549, device='cuda:0', grad_fn=<NllLossBackward>) 400\n",
            "tensor(3.1057, device='cuda:0', grad_fn=<NllLossBackward>) 500\n",
            "tensor(4.4172, device='cuda:0', grad_fn=<NllLossBackward>) 600\n",
            "tensor(2.4812, device='cuda:0', grad_fn=<NllLossBackward>) 700\n",
            "tensor(2.3765, device='cuda:0', grad_fn=<NllLossBackward>) 800\n",
            "tensor(1.1867, device='cuda:0', grad_fn=<NllLossBackward>) 900\n",
            "tensor(1.1361, device='cuda:0', grad_fn=<NllLossBackward>) 1000\n",
            "tensor(1.3719, device='cuda:0', grad_fn=<NllLossBackward>) 1100\n",
            "tensor(0.7048, device='cuda:0', grad_fn=<NllLossBackward>) 1200\n",
            "tensor(0.8246, device='cuda:0', grad_fn=<NllLossBackward>) 1300\n",
            "tensor(0.6006, device='cuda:0', grad_fn=<NllLossBackward>) 1400\n",
            "tensor(0.7999, device='cuda:0', grad_fn=<NllLossBackward>) 1500\n",
            "tensor(0.7165, device='cuda:0', grad_fn=<NllLossBackward>) 1600\n",
            "tensor(0.6027, device='cuda:0', grad_fn=<NllLossBackward>) 1700\n",
            "tensor(0.4982, device='cuda:0', grad_fn=<NllLossBackward>) 1800\n",
            "tensor(0.2556, device='cuda:0', grad_fn=<NllLossBackward>) 1900\n",
            "tensor(0.2434, device='cuda:0', grad_fn=<NllLossBackward>) 2000\n",
            "tensor(0.0793, device='cuda:0', grad_fn=<NllLossBackward>) 2100\n",
            "tensor(0.1309, device='cuda:0', grad_fn=<NllLossBackward>) 2200\n",
            "tensor(0.0882, device='cuda:0', grad_fn=<NllLossBackward>) 2300\n",
            "tensor(0.0727, device='cuda:0', grad_fn=<NllLossBackward>) 2400\n",
            "tensor(0.0284, device='cuda:0', grad_fn=<NllLossBackward>) 2500\n",
            "tensor(0.1572, device='cuda:0', grad_fn=<NllLossBackward>) 2600\n",
            "tensor(0.0313, device='cuda:0', grad_fn=<NllLossBackward>) 2700\n",
            "tensor(0.0576, device='cuda:0', grad_fn=<NllLossBackward>) 2800\n",
            "tensor(0.0373, device='cuda:0', grad_fn=<NllLossBackward>) 2900\n",
            "tensor(0.0348, device='cuda:0', grad_fn=<NllLossBackward>) 3000\n",
            "tensor(0.0061, device='cuda:0', grad_fn=<NllLossBackward>) 3100\n",
            "tensor(0.0141, device='cuda:0', grad_fn=<NllLossBackward>) 3200\n",
            "tensor(0.0201, device='cuda:0', grad_fn=<NllLossBackward>) 3300\n",
            "tensor(0.0171, device='cuda:0', grad_fn=<NllLossBackward>) 3400\n",
            "tensor(0.0265, device='cuda:0', grad_fn=<NllLossBackward>) 3500\n",
            "tensor(0.0070, device='cuda:0', grad_fn=<NllLossBackward>) 3600\n",
            "tensor(0.0912, device='cuda:0', grad_fn=<NllLossBackward>) 3700\n",
            "tensor(0.0022, device='cuda:0', grad_fn=<NllLossBackward>) 3800\n",
            "tensor(0.0140, device='cuda:0', grad_fn=<NllLossBackward>) 3900\n",
            "tensor(0.0083, device='cuda:0', grad_fn=<NllLossBackward>) 4000\n",
            "tensor(0.0007, device='cuda:0', grad_fn=<NllLossBackward>) 4100\n",
            "tensor(0.0070, device='cuda:0', grad_fn=<NllLossBackward>) 4200\n",
            "tensor(0.0247, device='cuda:0', grad_fn=<NllLossBackward>) 4300\n",
            "tensor(0.0063, device='cuda:0', grad_fn=<NllLossBackward>) 4400\n",
            "tensor(0.0012, device='cuda:0', grad_fn=<NllLossBackward>) 4500\n",
            "tensor(0.0034, device='cuda:0', grad_fn=<NllLossBackward>) 4600\n",
            "tensor(0.0044, device='cuda:0', grad_fn=<NllLossBackward>) 4700\n",
            "tensor(0.0053, device='cuda:0', grad_fn=<NllLossBackward>) 4800\n",
            "tensor(0.0004, device='cuda:0', grad_fn=<NllLossBackward>) 4900\n",
            "tensor(0.0021, device='cuda:0', grad_fn=<NllLossBackward>) 5000\n",
            "tensor(0.0017, device='cuda:0', grad_fn=<NllLossBackward>) 5100\n",
            "tensor(0.0023, device='cuda:0', grad_fn=<NllLossBackward>) 5200\n",
            "tensor(0.0027, device='cuda:0', grad_fn=<NllLossBackward>) 5300\n",
            "tensor(0.0184, device='cuda:0', grad_fn=<NllLossBackward>) 5400\n",
            "tensor(0.0005, device='cuda:0', grad_fn=<NllLossBackward>) 5500\n",
            "tensor(0.0057, device='cuda:0', grad_fn=<NllLossBackward>) 5600\n",
            "tensor(0.0050, device='cuda:0', grad_fn=<NllLossBackward>) 5700\n",
            "tensor(5.3209e-05, device='cuda:0', grad_fn=<NllLossBackward>) 5800\n",
            "tensor(0.0217, device='cuda:0', grad_fn=<NllLossBackward>) 5900\n",
            "tensor(0.0035, device='cuda:0', grad_fn=<NllLossBackward>) 6000\n",
            "tensor(0.0091, device='cuda:0', grad_fn=<NllLossBackward>) 6100\n",
            "tensor(0.0022, device='cuda:0', grad_fn=<NllLossBackward>) 6200\n",
            "tensor(0.0024, device='cuda:0', grad_fn=<NllLossBackward>) 6300\n",
            "tensor(0.0429, device='cuda:0', grad_fn=<NllLossBackward>) 6400\n",
            "tensor(0.0090, device='cuda:0', grad_fn=<NllLossBackward>) 6500\n",
            "tensor(2.8551e-05, device='cuda:0', grad_fn=<NllLossBackward>) 6600\n",
            "tensor(3.8251e-05, device='cuda:0', grad_fn=<NllLossBackward>) 6700\n",
            "tensor(0.0004, device='cuda:0', grad_fn=<NllLossBackward>) 6800\n",
            "tensor(5.0589e-05, device='cuda:0', grad_fn=<NllLossBackward>) 6900\n",
            "tensor(0., device='cuda:0', grad_fn=<NllLossBackward>) 7000\n",
            "tensor(0.0031, device='cuda:0', grad_fn=<NllLossBackward>) 7100\n",
            "tensor(0.0014, device='cuda:0', grad_fn=<NllLossBackward>) 7200\n",
            "tensor(0.0005, device='cuda:0', grad_fn=<NllLossBackward>) 7300\n",
            "tensor(4.8189e-06, device='cuda:0', grad_fn=<NllLossBackward>) 7400\n",
            "tensor(1.5831e-07, device='cuda:0', grad_fn=<NllLossBackward>) 7500\n",
            "tensor(0.0002, device='cuda:0', grad_fn=<NllLossBackward>) 7600\n",
            "tensor(0.0002, device='cuda:0', grad_fn=<NllLossBackward>) 7700\n",
            "tensor(0.0015, device='cuda:0', grad_fn=<NllLossBackward>) 7800\n",
            "tensor(0.0114, device='cuda:0', grad_fn=<NllLossBackward>) 7900\n",
            "Total time taken is :  236.859822791\n"
          ],
          "name": "stdout"
        }
      ]
    },
    {
      "cell_type": "code",
      "metadata": {
        "id": "oTSUomh1nLKK",
        "colab_type": "code",
        "outputId": "df6fb0b8-8c96-4094-e9e7-c4995312e3bd",
        "colab": {
          "base_uri": "https://localhost:8080/",
          "height": 50
        }
      },
      "source": [
        "# Training accuracy\n",
        "\n",
        "postout = firstNN(myXtrain,2000)\n",
        "\n",
        "correct = torch.eq(torch.max(postout, 1)[1], torch.max(myYtrain, 1)[1]).sum()\n",
        "print(correct)\n",
        "print(\"Training accuracy is : \", 100 * correct.item()/ training_size )"
      ],
      "execution_count": 15,
      "outputs": [
        {
          "output_type": "stream",
          "text": [
            "tensor(3970, device='cuda:0')\n",
            "Training accuracy is :  99.25\n"
          ],
          "name": "stdout"
        }
      ]
    },
    {
      "cell_type": "code",
      "metadata": {
        "id": "DvBHeO22qr8M",
        "colab_type": "code",
        "colab": {
          "base_uri": "https://localhost:8080/",
          "height": 66
        },
        "outputId": "69486649-8198-48c5-bf63-c6809cbf680a"
      },
      "source": [
        "# Testing accuracy\n",
        "\n",
        "y_outtest = firstNN(myXtest,2000)\n",
        "lossNNtest = criterion(y_outtest, torch.max(myYtest, 1)[1])\n",
        "print(lossNNtest.item())\n",
        "correct_test = torch.eq(torch.max(y_outtest, 1)[1], torch.max(myYtest, 1)[1]).sum()\n",
        "print(correct_test)\n",
        "print(\"Test accuracy is : \", 100 * correct_test.item()/ test_size )"
      ],
      "execution_count": 16,
      "outputs": [
        {
          "output_type": "stream",
          "text": [
            "0.8572548627853394\n",
            "tensor(451, device='cuda:0')\n",
            "Test accuracy is :  90.2\n"
          ],
          "name": "stdout"
        }
      ]
    },
    {
      "cell_type": "code",
      "metadata": {
        "id": "-xNzj_0wqt98",
        "colab_type": "code",
        "outputId": "f4a08525-36f5-4527-e9a2-84ccd6f88e31",
        "colab": {
          "base_uri": "https://localhost:8080/",
          "height": 50
        }
      },
      "source": [
        "correct_test = torch.eq(torch.max(y_outtest, 1)[1], torch.max(myYtest, 1)[1]).sum()\n",
        "print(correct_test)\n",
        "print(\"Test accuracy is : \", 100 * correct_test.item()/ test_size )"
      ],
      "execution_count": 17,
      "outputs": [
        {
          "output_type": "stream",
          "text": [
            "tensor(451, device='cuda:0')\n",
            "Test accuracy is :  90.2\n"
          ],
          "name": "stdout"
        }
      ]
    }
  ]
}